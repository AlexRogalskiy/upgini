{
 "cells": [
  {
   "cell_type": "markdown",
   "metadata": {},
   "source": [
    "# Kaggle Example: Store Item Demand Forecasting Challenge\n",
    "\n",
    "Following this example notebook you'll see how easy you can boost your ML tasks with Upgini. We will enrich a dataset with relevant features and build a better model upon them.\n",
    "\n",
    "If you haven't got our library yet, you can install it now. Also, you can install CatBoost for the last part of this demonstartion."
   ]
  },
  {
   "cell_type": "code",
   "execution_count": 1,
   "metadata": {},
   "outputs": [
    {
     "name": "stdout",
     "output_type": "stream",
     "text": [
      "Note: you may need to restart the kernel to use updated packages.\n"
     ]
    }
   ],
   "source": [
    "%pip install -Uq upgini catboost"
   ]
  },
  {
   "cell_type": "markdown",
   "metadata": {},
   "source": [
    "## Prepare the input data\n",
    "\n",
    "For this demo we will use the train dataset from [Store Item Demand Forecasting Challenge](https://www.kaggle.com/c/demand-forecasting-kernels-only). You can download it from [here](https://www.kaggle.com/c/demand-forecasting-kernels-only/data?select=train.csv) or get from [our repo](https://github.com/upgini/upgini/raw/main/notebooks/train.csv.zip).\n",
    "\n",
    "To speed up the search let's take a random sample."
   ]
  },
  {
   "cell_type": "code",
   "execution_count": 1,
   "metadata": {},
   "outputs": [
    {
     "data": {
      "text/html": [
       "<div>\n",
       "<style scoped>\n",
       "    .dataframe tbody tr th:only-of-type {\n",
       "        vertical-align: middle;\n",
       "    }\n",
       "\n",
       "    .dataframe tbody tr th {\n",
       "        vertical-align: top;\n",
       "    }\n",
       "\n",
       "    .dataframe thead th {\n",
       "        text-align: right;\n",
       "    }\n",
       "</style>\n",
       "<table border=\"1\" class=\"dataframe\">\n",
       "  <thead>\n",
       "    <tr style=\"text-align: right;\">\n",
       "      <th></th>\n",
       "      <th>date</th>\n",
       "      <th>store</th>\n",
       "      <th>item</th>\n",
       "      <th>sales</th>\n",
       "    </tr>\n",
       "  </thead>\n",
       "  <tbody>\n",
       "    <tr>\n",
       "      <th>0</th>\n",
       "      <td>2013-01-01</td>\n",
       "      <td>10</td>\n",
       "      <td>21</td>\n",
       "      <td>33</td>\n",
       "    </tr>\n",
       "    <tr>\n",
       "      <th>1</th>\n",
       "      <td>2013-01-01</td>\n",
       "      <td>5</td>\n",
       "      <td>24</td>\n",
       "      <td>26</td>\n",
       "    </tr>\n",
       "    <tr>\n",
       "      <th>2</th>\n",
       "      <td>2013-01-01</td>\n",
       "      <td>3</td>\n",
       "      <td>27</td>\n",
       "      <td>11</td>\n",
       "    </tr>\n",
       "    <tr>\n",
       "      <th>3</th>\n",
       "      <td>2013-01-02</td>\n",
       "      <td>9</td>\n",
       "      <td>7</td>\n",
       "      <td>24</td>\n",
       "    </tr>\n",
       "    <tr>\n",
       "      <th>4</th>\n",
       "      <td>2013-01-02</td>\n",
       "      <td>6</td>\n",
       "      <td>40</td>\n",
       "      <td>9</td>\n",
       "    </tr>\n",
       "  </tbody>\n",
       "</table>\n",
       "</div>"
      ],
      "text/plain": [
       "        date store item  sales\n",
       "0 2013-01-01    10   21     33\n",
       "1 2013-01-01     5   24     26\n",
       "2 2013-01-01     3   27     11\n",
       "3 2013-01-02     9    7     24\n",
       "4 2013-01-02     6   40      9"
      ]
     },
     "execution_count": 1,
     "metadata": {},
     "output_type": "execute_result"
    }
   ],
   "source": [
    "from os.path import exists\n",
    "import pandas as pd\n",
    "\n",
    "df_path = \"train.csv.zip\" if exists(\"train.csv.zip\") else \"https://github.com/upgini/upgini/raw/main/notebooks/train.csv.zip\"\n",
    "df = pd.read_csv(df_path)\n",
    "df = df.sample(n=7_000, random_state=0)\n",
    "df[\"store\"] = df[\"store\"].astype(str)\n",
    "df[\"item\"] = df[\"item\"].astype(str)\n",
    "df[\"date\"] = pd.to_datetime(df[\"date\"])\n",
    "df.sort_values(\"date\", inplace=True)\n",
    "df.reset_index(inplace=True, drop=True)\n",
    "df.head()"
   ]
  },
  {
   "cell_type": "markdown",
   "metadata": {},
   "source": [
    "This dataset contains 5 years of records from 2013 to 2017. Let's split it into the train (2013–2016) and the evaluation (2017) parts."
   ]
  },
  {
   "cell_type": "code",
   "execution_count": 2,
   "metadata": {},
   "outputs": [],
   "source": [
    "train = df[df[\"date\"] < \"2017-01-01\"]\n",
    "test = df[df[\"date\"] >= \"2017-01-01\"]"
   ]
  },
  {
   "cell_type": "markdown",
   "metadata": {},
   "source": [
    "Let's also separate features from targets for future use."
   ]
  },
  {
   "cell_type": "code",
   "execution_count": 5,
   "metadata": {},
   "outputs": [],
   "source": [
    "train_features = train.drop(columns=[\"sales\"])\n",
    "train_target = train[\"sales\"]\n",
    "test_features = test.drop(columns=[\"sales\"])\n",
    "test_target = test[\"sales\"]"
   ]
  },
  {
   "cell_type": "markdown",
   "metadata": {},
   "source": [
    "## Search relevant features with FeaturesEnricher\n",
    "\n",
    "Next, we will use FeaturesEnricher on the train dataset to find features best suited for this particular target prediction. To do this we need to specify the column containing dates and provide the target to predict. Also, we can specify any number of additional datasets to evaluate the features. We will use our test dataset later to get the evaluation metrics."
   ]
  },
  {
   "cell_type": "code",
   "execution_count": 6,
   "metadata": {},
   "outputs": [
    {
     "name": "stdout",
     "output_type": "stream",
     "text": [
      "Detected task type: ModelTaskType.REGRESSION\n"
     ]
    },
    {
     "data": {
      "text/html": [
       "<style type=\"text/css\">\n",
       "#T_c2724_row0_col1, #T_c2724_row1_col1 {\n",
       "  background-color: #DAF7A6;\n",
       "}\n",
       "</style>\n",
       "<table id=\"T_c2724_\">\n",
       "  <thead>\n",
       "    <tr>\n",
       "      <th class=\"blank level0\" >&nbsp;</th>\n",
       "      <th class=\"col_heading level0 col0\" >Column name</th>\n",
       "      <th class=\"col_heading level0 col1\" >Status</th>\n",
       "      <th class=\"col_heading level0 col2\" >Description</th>\n",
       "    </tr>\n",
       "  </thead>\n",
       "  <tbody>\n",
       "    <tr>\n",
       "      <th id=\"T_c2724_level0_row0\" class=\"row_heading level0 row0\" >0</th>\n",
       "      <td id=\"T_c2724_row0_col0\" class=\"data row0 col0\" >date</td>\n",
       "      <td id=\"T_c2724_row0_col1\" class=\"data row0 col1\" >All valid</td>\n",
       "      <td id=\"T_c2724_row0_col2\" class=\"data row0 col2\" >All values in this column are good to go</td>\n",
       "    </tr>\n",
       "    <tr>\n",
       "      <th id=\"T_c2724_level0_row1\" class=\"row_heading level0 row1\" >1</th>\n",
       "      <td id=\"T_c2724_row1_col0\" class=\"data row1 col0\" >target</td>\n",
       "      <td id=\"T_c2724_row1_col1\" class=\"data row1 col1\" >All valid</td>\n",
       "      <td id=\"T_c2724_row1_col2\" class=\"data row1 col2\" >All values in this column are good to go</td>\n",
       "    </tr>\n",
       "  </tbody>\n",
       "</table>\n"
      ],
      "text/plain": [
       "<pandas.io.formats.style.Styler at 0x1596e1700>"
      ]
     },
     "metadata": {},
     "output_type": "display_data"
    },
    {
     "name": "stdout",
     "output_type": "stream",
     "text": [
      "Running search request with search_id=8dde9b44-bf97-4d23-bf93-d4e77e5edbfd\n",
      "We'll send email notification once it's completed, just use your personal api_key from profile.upgini.com\n",
      "\u001b[KDone                         \u001b[0m \u001b[K\u001b[K\u001b[K\u001b[K\u001b[K\u001b[K\u001b[K\u001b[K\u001b[K\u001b[K\u001b[K\u001b[K\u001b[K\u001b[K\u001b[K\u001b[K\u001b[K\u001b[K\u001b[K\u001b[K\u001b[K\u001b[K\u001b[K\u001b[K\u001b[K\u001b[K\u001b[K\u001b[K\u001b[K\u001b[K\u001b[K\u001b[K\u001b[K\u001b[K\u001b[K\u001b[K\u001b[K\u001b[K\u001b[K\u001b[K\u001b[K\u001b[K\u001b[K\u001b[K\u001b[K\u001b[K\u001b[K\u001b[K\u001b[K\u001b[K\u001b[K\u001b[K\u001b[K\u001b[K\u001b[K\u001b[K\u001b[K\u001b[K\u001b[K\u001b[K\u001b[K\u001b[K\u001b[K\u001b[K\u001b[K\u001b[K\u001b[K\u001b[K\u001b[K\u001b[K\u001b[K\u001b[K\u001b[K\u001b[K\u001b[K\u001b[K\u001b[K\u001b[K\u001b[K\u001b[K\u001b[K\u001b[K\u001b[K\u001b[K\u001b[K\u001b[K\u001b[K\u001b[K\u001b[K\u001b[K\u001b[K\u001b[K\u001b[K\u001b[K\u001b[K\u001b[K\u001b[K\u001b[K\u001b[K\u001b[K\u001b[K\u001b[K\u001b[K\u001b[K\u001b[K\u001b[K\u001b[K\u001b[K\u001b[K\u001b[K\u001b[K\u001b[K\u001b[K\u001b[K\u001b[K\u001b[K\u001b[K\u001b[K\u001b[K\u001b[K\u001b[K\u001b[K\u001b[K\u001b[K\u001b[K\u001b[K\u001b[K\u001b[K\u001b[K\u001b[K\u001b[K\u001b[K\u001b[K\u001b[K\u001b[K\n",
      "\n",
      "\u001b[92m\u001b[1m\n",
      "We found 12 useful feature(s) for you by search keys: ['date']\u001b[0m\n"
     ]
    },
    {
     "data": {
      "text/html": [
       "<div>\n",
       "<style scoped>\n",
       "    .dataframe tbody tr th:only-of-type {\n",
       "        vertical-align: middle;\n",
       "    }\n",
       "\n",
       "    .dataframe tbody tr th {\n",
       "        vertical-align: top;\n",
       "    }\n",
       "\n",
       "    .dataframe thead th {\n",
       "        text-align: right;\n",
       "    }\n",
       "</style>\n",
       "<table border=\"1\" class=\"dataframe\">\n",
       "  <thead>\n",
       "    <tr style=\"text-align: right;\">\n",
       "      <th></th>\n",
       "      <th>feature_name</th>\n",
       "      <th>shap_value</th>\n",
       "      <th>coverage %</th>\n",
       "      <th>type</th>\n",
       "    </tr>\n",
       "  </thead>\n",
       "  <tbody>\n",
       "    <tr>\n",
       "      <th>0</th>\n",
       "      <td>item</td>\n",
       "      <td>0.434272</td>\n",
       "      <td>100.0</td>\n",
       "      <td>CHARACTER</td>\n",
       "    </tr>\n",
       "    <tr>\n",
       "      <th>1</th>\n",
       "      <td>store</td>\n",
       "      <td>0.163740</td>\n",
       "      <td>100.0</td>\n",
       "      <td>CHARACTER</td>\n",
       "    </tr>\n",
       "    <tr>\n",
       "      <th>2</th>\n",
       "      <td>f_weather_pca_0_94efd18d</td>\n",
       "      <td>0.097509</td>\n",
       "      <td>100.0</td>\n",
       "      <td>NUMERIC</td>\n",
       "    </tr>\n",
       "    <tr>\n",
       "      <th>3</th>\n",
       "      <td>f_year_cos1_cd165f8c</td>\n",
       "      <td>0.016779</td>\n",
       "      <td>100.0</td>\n",
       "      <td>NUMERIC</td>\n",
       "    </tr>\n",
       "    <tr>\n",
       "      <th>4</th>\n",
       "      <td>f_payment_fraud_score_3cae9c42</td>\n",
       "      <td>0.015332</td>\n",
       "      <td>100.0</td>\n",
       "      <td>NUMERIC</td>\n",
       "    </tr>\n",
       "    <tr>\n",
       "      <th>5</th>\n",
       "      <td>f_week_sin1_a71d22f6</td>\n",
       "      <td>0.014975</td>\n",
       "      <td>100.0</td>\n",
       "      <td>NUMERIC</td>\n",
       "    </tr>\n",
       "    <tr>\n",
       "      <th>6</th>\n",
       "      <td>f_week_cos1_d3d56d7f</td>\n",
       "      <td>0.012109</td>\n",
       "      <td>100.0</td>\n",
       "      <td>NUMERIC</td>\n",
       "    </tr>\n",
       "    <tr>\n",
       "      <th>7</th>\n",
       "      <td>f_c2c_fraud_score_5028232e</td>\n",
       "      <td>0.010888</td>\n",
       "      <td>100.0</td>\n",
       "      <td>NUMERIC</td>\n",
       "    </tr>\n",
       "    <tr>\n",
       "      <th>8</th>\n",
       "      <td>f_cpi_pca_2_3c36cd6c</td>\n",
       "      <td>0.010555</td>\n",
       "      <td>100.0</td>\n",
       "      <td>NUMERIC</td>\n",
       "    </tr>\n",
       "    <tr>\n",
       "      <th>9</th>\n",
       "      <td>f_finance_umap_0_ad818bcb</td>\n",
       "      <td>0.008208</td>\n",
       "      <td>100.0</td>\n",
       "      <td>NUMERIC</td>\n",
       "    </tr>\n",
       "    <tr>\n",
       "      <th>10</th>\n",
       "      <td>f_credit_default_score_05229fa7</td>\n",
       "      <td>0.007744</td>\n",
       "      <td>100.0</td>\n",
       "      <td>NUMERIC</td>\n",
       "    </tr>\n",
       "    <tr>\n",
       "      <th>11</th>\n",
       "      <td>f_italy_match_cnt_fdb09b71</td>\n",
       "      <td>0.005280</td>\n",
       "      <td>100.0</td>\n",
       "      <td>NUMERIC</td>\n",
       "    </tr>\n",
       "    <tr>\n",
       "      <th>12</th>\n",
       "      <td>f_finance_umap_1_15890450</td>\n",
       "      <td>0.004788</td>\n",
       "      <td>100.0</td>\n",
       "      <td>NUMERIC</td>\n",
       "    </tr>\n",
       "    <tr>\n",
       "      <th>13</th>\n",
       "      <td>f_weather_umap_30_98fa4f7d</td>\n",
       "      <td>0.004662</td>\n",
       "      <td>100.0</td>\n",
       "      <td>NUMERIC</td>\n",
       "    </tr>\n",
       "  </tbody>\n",
       "</table>\n",
       "</div>"
      ],
      "text/plain": [
       "                       feature_name  shap_value  coverage %       type\n",
       "0                              item    0.434272       100.0  CHARACTER\n",
       "1                             store    0.163740       100.0  CHARACTER\n",
       "2          f_weather_pca_0_94efd18d    0.097509       100.0    NUMERIC\n",
       "3              f_year_cos1_cd165f8c    0.016779       100.0    NUMERIC\n",
       "4    f_payment_fraud_score_3cae9c42    0.015332       100.0    NUMERIC\n",
       "5              f_week_sin1_a71d22f6    0.014975       100.0    NUMERIC\n",
       "6              f_week_cos1_d3d56d7f    0.012109       100.0    NUMERIC\n",
       "7        f_c2c_fraud_score_5028232e    0.010888       100.0    NUMERIC\n",
       "8              f_cpi_pca_2_3c36cd6c    0.010555       100.0    NUMERIC\n",
       "9         f_finance_umap_0_ad818bcb    0.008208       100.0    NUMERIC\n",
       "10  f_credit_default_score_05229fa7    0.007744       100.0    NUMERIC\n",
       "11       f_italy_match_cnt_fdb09b71    0.005280       100.0    NUMERIC\n",
       "12        f_finance_umap_1_15890450    0.004788       100.0    NUMERIC\n",
       "13       f_weather_umap_30_98fa4f7d    0.004662       100.0    NUMERIC"
      ]
     },
     "metadata": {},
     "output_type": "display_data"
    }
   ],
   "source": [
    "from upgini import FeaturesEnricher, SearchKey\n",
    "from upgini.metadata import CVType\n",
    "\n",
    "enricher = FeaturesEnricher(\n",
    "    search_keys={\"date\": SearchKey.DATE},\n",
    "    keep_input=True,\n",
    "    cv=CVType.time_series\n",
    ")\n",
    "enricher.fit(train_features, train_target, eval_set=[(test_features, test_target)])"
   ]
  },
  {
   "cell_type": "markdown",
   "metadata": {},
   "source": [
    "In our case the task is auto-detected as a regression. Hence the metric to optimize is auto-selected as RMSE."
   ]
  },
  {
   "cell_type": "markdown",
   "metadata": {},
   "source": [
    "## Get the features and test them locally\n",
    "\n",
    "Finally, we can enrich our datasets with the features found and use them in our own ML pipelines. Lets's enrich both the train and the test datasets."
   ]
  },
  {
   "cell_type": "code",
   "execution_count": 7,
   "metadata": {},
   "outputs": [
    {
     "name": "stdout",
     "output_type": "stream",
     "text": [
      "74.43151% of the rows are fully duplicated\n"
     ]
    },
    {
     "data": {
      "text/html": [
       "<style type=\"text/css\">\n",
       "#T_47902_row0_col1 {\n",
       "  background-color: #DAF7A6;\n",
       "}\n",
       "</style>\n",
       "<table id=\"T_47902_\">\n",
       "  <thead>\n",
       "    <tr>\n",
       "      <th class=\"blank level0\" >&nbsp;</th>\n",
       "      <th class=\"col_heading level0 col0\" >Column name</th>\n",
       "      <th class=\"col_heading level0 col1\" >Status</th>\n",
       "      <th class=\"col_heading level0 col2\" >Description</th>\n",
       "    </tr>\n",
       "  </thead>\n",
       "  <tbody>\n",
       "    <tr>\n",
       "      <th id=\"T_47902_level0_row0\" class=\"row_heading level0 row0\" >0</th>\n",
       "      <td id=\"T_47902_row0_col0\" class=\"data row0 col0\" >date</td>\n",
       "      <td id=\"T_47902_row0_col1\" class=\"data row0 col1\" >All valid</td>\n",
       "      <td id=\"T_47902_row0_col2\" class=\"data row0 col2\" >All values in this column are good to go</td>\n",
       "    </tr>\n",
       "  </tbody>\n",
       "</table>\n"
      ],
      "text/plain": [
       "<pandas.io.formats.style.Styler at 0x15a9b9130>"
      ]
     },
     "metadata": {},
     "output_type": "display_data"
    },
    {
     "name": "stdout",
     "output_type": "stream",
     "text": [
      "Running search request with search_id=c75b81d6-6f9d-40a0-b1bb-1b0d636452d6\n",
      "We'll send email notification once it's completed, just use your personal api_key from profile.upgini.com\n",
      "\u001b[KDone                         \u001b[0m \u001b[K\u001b[K\u001b[K\u001b[K\u001b[K\u001b[K\u001b[K\u001b[K\u001b[K\u001b[K\u001b[K\u001b[K\u001b[K\u001b[K\u001b[K\u001b[K\u001b[K\u001b[K\u001b[K\u001b[K\u001b[K\u001b[K\u001b[K\u001b[K\u001b[K\u001b[K\u001b[K\u001b[K\u001b[K\u001b[K\u001b[K\u001b[K\u001b[K\u001b[K\u001b[K\u001b[K\u001b[K\u001b[K\u001b[K\u001b[K\u001b[K\u001b[K\u001b[K\u001b[K\u001b[K\n",
      "\n",
      "Executing transform step\n",
      "\u001b[KDone                         \u001b[0m \u001b[K\u001b[K\n",
      "74.55830% of the rows are fully duplicated\n"
     ]
    },
    {
     "data": {
      "text/html": [
       "<style type=\"text/css\">\n",
       "#T_42749_row0_col1 {\n",
       "  background-color: #DAF7A6;\n",
       "}\n",
       "</style>\n",
       "<table id=\"T_42749_\">\n",
       "  <thead>\n",
       "    <tr>\n",
       "      <th class=\"blank level0\" >&nbsp;</th>\n",
       "      <th class=\"col_heading level0 col0\" >Column name</th>\n",
       "      <th class=\"col_heading level0 col1\" >Status</th>\n",
       "      <th class=\"col_heading level0 col2\" >Description</th>\n",
       "    </tr>\n",
       "  </thead>\n",
       "  <tbody>\n",
       "    <tr>\n",
       "      <th id=\"T_42749_level0_row0\" class=\"row_heading level0 row0\" >0</th>\n",
       "      <td id=\"T_42749_row0_col0\" class=\"data row0 col0\" >date</td>\n",
       "      <td id=\"T_42749_row0_col1\" class=\"data row0 col1\" >All valid</td>\n",
       "      <td id=\"T_42749_row0_col2\" class=\"data row0 col2\" >All values in this column are good to go</td>\n",
       "    </tr>\n",
       "  </tbody>\n",
       "</table>\n"
      ],
      "text/plain": [
       "<pandas.io.formats.style.Styler at 0x15a986670>"
      ]
     },
     "metadata": {},
     "output_type": "display_data"
    },
    {
     "name": "stdout",
     "output_type": "stream",
     "text": [
      "Running search request with search_id=363c8988-f548-4850-b865-7770bf946ede\n",
      "We'll send email notification once it's completed, just use your personal api_key from profile.upgini.com\n",
      "\u001b[KDone                         \u001b[0m \u001b[K\u001b[K\u001b[K\u001b[K\u001b[K\u001b[K\u001b[K\u001b[K\u001b[K\u001b[K\u001b[K\u001b[K\u001b[K\u001b[K\u001b[K\u001b[K\u001b[K\u001b[K\u001b[K\u001b[K\u001b[K\u001b[K\u001b[K\u001b[K\u001b[K\u001b[K\u001b[K\u001b[K\u001b[K\u001b[K\u001b[K\u001b[K\u001b[K\u001b[K\u001b[K\u001b[K\u001b[K\u001b[K\u001b[K\u001b[K\u001b[K\u001b[K\u001b[K\u001b[K\u001b[K\u001b[K\u001b[K\u001b[K\n",
      "\n",
      "Executing transform step\n",
      "\u001b[KDone                         \u001b[0m \u001b[K\u001b[K\u001b[K\n"
     ]
    },
    {
     "data": {
      "text/html": [
       "<div>\n",
       "<style scoped>\n",
       "    .dataframe tbody tr th:only-of-type {\n",
       "        vertical-align: middle;\n",
       "    }\n",
       "\n",
       "    .dataframe tbody tr th {\n",
       "        vertical-align: top;\n",
       "    }\n",
       "\n",
       "    .dataframe thead th {\n",
       "        text-align: right;\n",
       "    }\n",
       "</style>\n",
       "<table border=\"1\" class=\"dataframe\">\n",
       "  <thead>\n",
       "    <tr style=\"text-align: right;\">\n",
       "      <th></th>\n",
       "      <th>date</th>\n",
       "      <th>store</th>\n",
       "      <th>item</th>\n",
       "      <th>f_weather_pca_0_94efd18d</th>\n",
       "      <th>f_year_cos1_cd165f8c</th>\n",
       "      <th>f_payment_fraud_score_3cae9c42</th>\n",
       "      <th>f_week_sin1_a71d22f6</th>\n",
       "      <th>f_week_cos1_d3d56d7f</th>\n",
       "      <th>f_c2c_fraud_score_5028232e</th>\n",
       "      <th>f_cpi_pca_2_3c36cd6c</th>\n",
       "      <th>f_finance_umap_0_ad818bcb</th>\n",
       "      <th>f_credit_default_score_05229fa7</th>\n",
       "      <th>f_italy_match_cnt_fdb09b71</th>\n",
       "      <th>f_finance_umap_1_15890450</th>\n",
       "      <th>f_weather_umap_30_98fa4f7d</th>\n",
       "    </tr>\n",
       "  </thead>\n",
       "  <tbody>\n",
       "    <tr>\n",
       "      <th>0</th>\n",
       "      <td>2013-01-01</td>\n",
       "      <td>10</td>\n",
       "      <td>21</td>\n",
       "      <td>28.661328</td>\n",
       "      <td>0.985220</td>\n",
       "      <td>0.232837</td>\n",
       "      <td>0.781831</td>\n",
       "      <td>0.623490</td>\n",
       "      <td>0.369604</td>\n",
       "      <td>-33.814365</td>\n",
       "      <td>10.026849</td>\n",
       "      <td>0.118754</td>\n",
       "      <td>0</td>\n",
       "      <td>9.950280</td>\n",
       "      <td>3.547175</td>\n",
       "    </tr>\n",
       "    <tr>\n",
       "      <th>1</th>\n",
       "      <td>2013-01-01</td>\n",
       "      <td>5</td>\n",
       "      <td>24</td>\n",
       "      <td>28.661328</td>\n",
       "      <td>0.985220</td>\n",
       "      <td>0.232837</td>\n",
       "      <td>0.781831</td>\n",
       "      <td>0.623490</td>\n",
       "      <td>0.369604</td>\n",
       "      <td>-33.814365</td>\n",
       "      <td>10.026849</td>\n",
       "      <td>0.118754</td>\n",
       "      <td>0</td>\n",
       "      <td>9.950280</td>\n",
       "      <td>3.547175</td>\n",
       "    </tr>\n",
       "    <tr>\n",
       "      <th>2</th>\n",
       "      <td>2013-01-01</td>\n",
       "      <td>3</td>\n",
       "      <td>27</td>\n",
       "      <td>28.661328</td>\n",
       "      <td>0.985220</td>\n",
       "      <td>0.232837</td>\n",
       "      <td>0.781831</td>\n",
       "      <td>0.623490</td>\n",
       "      <td>0.369604</td>\n",
       "      <td>-33.814365</td>\n",
       "      <td>10.026849</td>\n",
       "      <td>0.118754</td>\n",
       "      <td>0</td>\n",
       "      <td>9.950280</td>\n",
       "      <td>3.547175</td>\n",
       "    </tr>\n",
       "    <tr>\n",
       "      <th>3</th>\n",
       "      <td>2013-01-02</td>\n",
       "      <td>9</td>\n",
       "      <td>7</td>\n",
       "      <td>28.795890</td>\n",
       "      <td>0.982126</td>\n",
       "      <td>0.115787</td>\n",
       "      <td>0.974928</td>\n",
       "      <td>-0.222521</td>\n",
       "      <td>0.277366</td>\n",
       "      <td>-33.814365</td>\n",
       "      <td>10.075461</td>\n",
       "      <td>0.050849</td>\n",
       "      <td>0</td>\n",
       "      <td>9.880929</td>\n",
       "      <td>3.400228</td>\n",
       "    </tr>\n",
       "    <tr>\n",
       "      <th>4</th>\n",
       "      <td>2013-01-02</td>\n",
       "      <td>6</td>\n",
       "      <td>40</td>\n",
       "      <td>28.795890</td>\n",
       "      <td>0.982126</td>\n",
       "      <td>0.115787</td>\n",
       "      <td>0.974928</td>\n",
       "      <td>-0.222521</td>\n",
       "      <td>0.277366</td>\n",
       "      <td>-33.814365</td>\n",
       "      <td>10.075461</td>\n",
       "      <td>0.050849</td>\n",
       "      <td>0</td>\n",
       "      <td>9.880929</td>\n",
       "      <td>3.400228</td>\n",
       "    </tr>\n",
       "  </tbody>\n",
       "</table>\n",
       "</div>"
      ],
      "text/plain": [
       "        date store item  f_weather_pca_0_94efd18d  f_year_cos1_cd165f8c  \\\n",
       "0 2013-01-01    10   21                 28.661328              0.985220   \n",
       "1 2013-01-01     5   24                 28.661328              0.985220   \n",
       "2 2013-01-01     3   27                 28.661328              0.985220   \n",
       "3 2013-01-02     9    7                 28.795890              0.982126   \n",
       "4 2013-01-02     6   40                 28.795890              0.982126   \n",
       "\n",
       "   f_payment_fraud_score_3cae9c42  f_week_sin1_a71d22f6  f_week_cos1_d3d56d7f  \\\n",
       "0                        0.232837              0.781831              0.623490   \n",
       "1                        0.232837              0.781831              0.623490   \n",
       "2                        0.232837              0.781831              0.623490   \n",
       "3                        0.115787              0.974928             -0.222521   \n",
       "4                        0.115787              0.974928             -0.222521   \n",
       "\n",
       "   f_c2c_fraud_score_5028232e  f_cpi_pca_2_3c36cd6c  \\\n",
       "0                    0.369604            -33.814365   \n",
       "1                    0.369604            -33.814365   \n",
       "2                    0.369604            -33.814365   \n",
       "3                    0.277366            -33.814365   \n",
       "4                    0.277366            -33.814365   \n",
       "\n",
       "   f_finance_umap_0_ad818bcb  f_credit_default_score_05229fa7  \\\n",
       "0                  10.026849                         0.118754   \n",
       "1                  10.026849                         0.118754   \n",
       "2                  10.026849                         0.118754   \n",
       "3                  10.075461                         0.050849   \n",
       "4                  10.075461                         0.050849   \n",
       "\n",
       "   f_italy_match_cnt_fdb09b71  f_finance_umap_1_15890450  \\\n",
       "0                           0                   9.950280   \n",
       "1                           0                   9.950280   \n",
       "2                           0                   9.950280   \n",
       "3                           0                   9.880929   \n",
       "4                           0                   9.880929   \n",
       "\n",
       "   f_weather_umap_30_98fa4f7d  \n",
       "0                    3.547175  \n",
       "1                    3.547175  \n",
       "2                    3.547175  \n",
       "3                    3.400228  \n",
       "4                    3.400228  "
      ]
     },
     "execution_count": 7,
     "metadata": {},
     "output_type": "execute_result"
    }
   ],
   "source": [
    "enriched_train_features = enricher.transform(train_features)\n",
    "enriched_test_features = enricher.transform(test_features)\n",
    "enriched_train_features.head()"
   ]
  },
  {
   "cell_type": "markdown",
   "metadata": {},
   "source": [
    "Here, we've got several dozens of extra features in addition to our initial columns. They should improve the quality of our model.\n",
    "\n",
    "Let's evaluate the SMAPE metric on train and test datasets using CatBoost model:"
   ]
  },
  {
   "cell_type": "code",
   "execution_count": 9,
   "metadata": {},
   "outputs": [
    {
     "data": {
      "text/html": [
       "<div>\n",
       "<style scoped>\n",
       "    .dataframe tbody tr th:only-of-type {\n",
       "        vertical-align: middle;\n",
       "    }\n",
       "\n",
       "    .dataframe tbody tr th {\n",
       "        vertical-align: top;\n",
       "    }\n",
       "\n",
       "    .dataframe thead th {\n",
       "        text-align: right;\n",
       "    }\n",
       "</style>\n",
       "<table border=\"1\" class=\"dataframe\">\n",
       "  <thead>\n",
       "    <tr style=\"text-align: right;\">\n",
       "      <th></th>\n",
       "      <th>match_rate</th>\n",
       "      <th>baseline SMAPE</th>\n",
       "      <th>enriched SMAPE</th>\n",
       "      <th>uplift</th>\n",
       "    </tr>\n",
       "    <tr>\n",
       "      <th></th>\n",
       "      <th></th>\n",
       "      <th></th>\n",
       "      <th></th>\n",
       "      <th></th>\n",
       "    </tr>\n",
       "  </thead>\n",
       "  <tbody>\n",
       "    <tr>\n",
       "      <th>train</th>\n",
       "      <td>100.0</td>\n",
       "      <td>-26.577846</td>\n",
       "      <td>-16.243340</td>\n",
       "      <td>10.334506</td>\n",
       "    </tr>\n",
       "    <tr>\n",
       "      <th>eval 1</th>\n",
       "      <td>100.0</td>\n",
       "      <td>-25.713841</td>\n",
       "      <td>-14.510655</td>\n",
       "      <td>11.203186</td>\n",
       "    </tr>\n",
       "  </tbody>\n",
       "</table>\n",
       "</div>"
      ],
      "text/plain": [
       "        match_rate  baseline SMAPE  enriched SMAPE     uplift\n",
       "                                                             \n",
       "train        100.0      -26.577846      -16.243340  10.334506\n",
       "eval 1       100.0      -25.713841      -14.510655  11.203186"
      ]
     },
     "execution_count": 9,
     "metadata": {},
     "output_type": "execute_result"
    }
   ],
   "source": [
    "from catboost import CatBoostRegressor\n",
    "from catboost.utils import eval_metric\n",
    "from sklearn.metrics import make_scorer\n",
    "\n",
    "model = CatBoostRegressor(verbose=False, allow_writing_files=False, random_state=0)\n",
    "smape_scorer = make_scorer(\n",
    "    lambda y_true, y_pred: eval_metric(y_true.values, y_pred, \"SMAPE\")[0], \n",
    "    greater_is_better=False\n",
    ")\n",
    "smape_scorer.__name__ = \"SMAPE\"\n",
    "enricher.calculate_metrics(\n",
    "    train_features, train_target, \n",
    "    eval_set=[(test_features, test_target)],\n",
    "    estimator=model,\n",
    "    scoring=smape_scorer\n",
    ")"
   ]
  },
  {
   "cell_type": "markdown",
   "metadata": {},
   "source": [
    "In the output you see SMAPE values for the train dataset (using cross-validation) and for every evaluation dataset we have provided. There are also match rate values (a percent share of rows enriched with features) and uplift values (a relative improvement in SMAPE for the enriched dataset over the initial dataset).\n",
    "Here we can see a strong uplift both on the cross-validation and on the out-of-time validation dataset."
   ]
  },
  {
   "cell_type": "markdown",
   "metadata": {},
   "source": [
    "You see a much better result after the enrichment. That's the magic of using our library."
   ]
  }
 ],
 "metadata": {
  "interpreter": {
   "hash": "84d3963f7282eecda7b76a14a104c509e6daebf9e3eef3217fda5c175b1d27a9"
  },
  "kernelspec": {
   "display_name": "Python 3",
   "language": "python",
   "name": "python3"
  },
  "language_info": {
   "codemirror_mode": {
    "name": "ipython",
    "version": 3
   },
   "file_extension": ".py",
   "mimetype": "text/x-python",
   "name": "python",
   "nbconvert_exporter": "python",
   "pygments_lexer": "ipython3",
   "version": "3.8.13"
  }
 },
 "nbformat": 4,
 "nbformat_minor": 2
}
