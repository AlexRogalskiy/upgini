{
 "cells": [
  {
   "cell_type": "markdown",
   "metadata": {},
   "source": [
    "# Kaggle Example: Store Item Demand Forecasting Challenge\n",
    "\n",
    "Following this example notebook you'll see how easy you can boost your ML tasks with Upgini. We will enrich a dataset with relevant features and build a better model upon them.\n",
    "\n",
    "If you haven't got our library yet, you can install it now. Also, you can install CatBoost for the last part of this demonstartion."
   ]
  },
  {
   "cell_type": "code",
   "execution_count": 1,
   "metadata": {},
   "outputs": [
    {
     "name": "stdout",
     "output_type": "stream",
     "text": [
      "Note: you may need to restart the kernel to use updated packages.\n"
     ]
    }
   ],
   "source": [
    "%pip install -Uq upgini catboost"
   ]
  },
  {
   "cell_type": "markdown",
   "metadata": {},
   "source": [
    "## Prepare the input data\n",
    "\n",
    "For this demo we will use the train dataset from [Store Item Demand Forecasting Challenge](https://www.kaggle.com/c/demand-forecasting-kernels-only). You can download it from [here](https://www.kaggle.com/c/demand-forecasting-kernels-only/data?select=train.csv) or get from [our repo](https://github.com/upgini/upgini/raw/main/notebooks/train.csv.zip).\n",
    "\n",
    "To speed up the search let's take a random sample."
   ]
  },
  {
   "cell_type": "code",
   "execution_count": 2,
   "metadata": {},
   "outputs": [
    {
     "data": {
      "text/html": [
       "<div>\n",
       "<style scoped>\n",
       "    .dataframe tbody tr th:only-of-type {\n",
       "        vertical-align: middle;\n",
       "    }\n",
       "\n",
       "    .dataframe tbody tr th {\n",
       "        vertical-align: top;\n",
       "    }\n",
       "\n",
       "    .dataframe thead th {\n",
       "        text-align: right;\n",
       "    }\n",
       "</style>\n",
       "<table border=\"1\" class=\"dataframe\">\n",
       "  <thead>\n",
       "    <tr style=\"text-align: right;\">\n",
       "      <th></th>\n",
       "      <th>date</th>\n",
       "      <th>store</th>\n",
       "      <th>item</th>\n",
       "      <th>sales</th>\n",
       "    </tr>\n",
       "  </thead>\n",
       "  <tbody>\n",
       "    <tr>\n",
       "      <th>335813</th>\n",
       "      <td>2017-07-14</td>\n",
       "      <td>4</td>\n",
       "      <td>19</td>\n",
       "      <td>56</td>\n",
       "    </tr>\n",
       "    <tr>\n",
       "      <th>630838</th>\n",
       "      <td>2015-05-19</td>\n",
       "      <td>6</td>\n",
       "      <td>35</td>\n",
       "      <td>45</td>\n",
       "    </tr>\n",
       "    <tr>\n",
       "      <th>365685</th>\n",
       "      <td>2014-05-01</td>\n",
       "      <td>1</td>\n",
       "      <td>21</td>\n",
       "      <td>48</td>\n",
       "    </tr>\n",
       "    <tr>\n",
       "      <th>322781</th>\n",
       "      <td>2016-11-06</td>\n",
       "      <td>7</td>\n",
       "      <td>18</td>\n",
       "      <td>85</td>\n",
       "    </tr>\n",
       "    <tr>\n",
       "      <th>151590</th>\n",
       "      <td>2013-02-02</td>\n",
       "      <td>4</td>\n",
       "      <td>9</td>\n",
       "      <td>46</td>\n",
       "    </tr>\n",
       "  </tbody>\n",
       "</table>\n",
       "</div>"
      ],
      "text/plain": [
       "             date store item  sales\n",
       "335813 2017-07-14     4   19     56\n",
       "630838 2015-05-19     6   35     45\n",
       "365685 2014-05-01     1   21     48\n",
       "322781 2016-11-06     7   18     85\n",
       "151590 2013-02-02     4    9     46"
      ]
     },
     "execution_count": 2,
     "metadata": {},
     "output_type": "execute_result"
    }
   ],
   "source": [
    "from os.path import exists\n",
    "import pandas as pd\n",
    "\n",
    "df_path = \"train.csv.zip\" if exists(\"train.csv.zip\") else \"https://github.com/upgini/upgini/raw/main/notebooks/train.csv.zip\"\n",
    "df = pd.read_csv(df_path)\n",
    "df = df.sample(n=7_000, random_state=0)\n",
    "df[\"store\"] = df[\"store\"].astype(str)\n",
    "df[\"item\"] = df[\"item\"].astype(str)\n",
    "df[\"date\"] = pd.to_datetime(df[\"date\"])\n",
    "df.head()"
   ]
  },
  {
   "cell_type": "markdown",
   "metadata": {},
   "source": [
    "This dataset contains 5 years of records from 2013 to 2017. Let's split it into the train (2013–2016) and the evaluation (2017) parts."
   ]
  },
  {
   "cell_type": "code",
   "execution_count": 3,
   "metadata": {},
   "outputs": [],
   "source": [
    "train = df[df[\"date\"] < \"2017-01-01\"]\n",
    "test = df[df[\"date\"] >= \"2017-01-01\"]"
   ]
  },
  {
   "cell_type": "markdown",
   "metadata": {},
   "source": [
    "Let's also separate features from targets for future use."
   ]
  },
  {
   "cell_type": "code",
   "execution_count": 4,
   "metadata": {},
   "outputs": [],
   "source": [
    "train_features = train.drop(columns=[\"sales\"])\n",
    "train_target = train[\"sales\"]\n",
    "test_features = test.drop(columns=[\"sales\"])\n",
    "test_target = test[\"sales\"]"
   ]
  },
  {
   "cell_type": "markdown",
   "metadata": {},
   "source": [
    "## Search relevant features with FeaturesEnricher\n",
    "\n",
    "Next, we will use FeaturesEnricher on the train dataset to find features best suited for this particular target prediction. To do this we need to specify the column containing dates and provide the target to predict. Also, we can specify any number of additional datasets to evaluate the features. We will use our test dataset later to get the evaluation metrics."
   ]
  },
  {
   "cell_type": "code",
   "execution_count": 5,
   "metadata": {},
   "outputs": [
    {
     "name": "stdout",
     "output_type": "stream",
     "text": [
      "Detected task type: ModelTaskType.REGRESSION\n"
     ]
    },
    {
     "data": {
      "text/html": [
       "<style type=\"text/css\">\n",
       "#T_b67c0_row0_col1, #T_b67c0_row1_col1 {\n",
       "  background-color: #DAF7A6;\n",
       "}\n",
       "</style>\n",
       "<table id=\"T_b67c0_\">\n",
       "  <thead>\n",
       "    <tr>\n",
       "      <th class=\"blank level0\" >&nbsp;</th>\n",
       "      <th class=\"col_heading level0 col0\" >Column name</th>\n",
       "      <th class=\"col_heading level0 col1\" >Status</th>\n",
       "      <th class=\"col_heading level0 col2\" >Description</th>\n",
       "    </tr>\n",
       "  </thead>\n",
       "  <tbody>\n",
       "    <tr>\n",
       "      <th id=\"T_b67c0_level0_row0\" class=\"row_heading level0 row0\" >0</th>\n",
       "      <td id=\"T_b67c0_row0_col0\" class=\"data row0 col0\" >target</td>\n",
       "      <td id=\"T_b67c0_row0_col1\" class=\"data row0 col1\" >All valid</td>\n",
       "      <td id=\"T_b67c0_row0_col2\" class=\"data row0 col2\" >All values in this column are good to go</td>\n",
       "    </tr>\n",
       "    <tr>\n",
       "      <th id=\"T_b67c0_level0_row1\" class=\"row_heading level0 row1\" >1</th>\n",
       "      <td id=\"T_b67c0_row1_col0\" class=\"data row1 col0\" >date</td>\n",
       "      <td id=\"T_b67c0_row1_col1\" class=\"data row1 col1\" >All valid</td>\n",
       "      <td id=\"T_b67c0_row1_col2\" class=\"data row1 col2\" >All values in this column are good to go</td>\n",
       "    </tr>\n",
       "  </tbody>\n",
       "</table>\n"
      ],
      "text/plain": [
       "<pandas.io.formats.style.Styler at 0x161b3c9a0>"
      ]
     },
     "metadata": {},
     "output_type": "display_data"
    },
    {
     "name": "stdout",
     "output_type": "stream",
     "text": [
      "Running search request with search_id=3bf0c90e-9462-412e-a53e-b0ba0ef39286\n",
      "We'll send email notification once it's completed, just use your personal api_key from profile.upgini.com\n",
      "\u001b[KDone                         \u001b[0m \u001b[K\u001b[K\u001b[K\u001b[K\u001b[K\u001b[K\u001b[K\u001b[K\u001b[K\u001b[K\u001b[K\u001b[K\u001b[K\u001b[K\u001b[K\u001b[K\u001b[K\u001b[K\u001b[K\u001b[K\u001b[K\u001b[K\u001b[K\u001b[K\u001b[K\u001b[K\u001b[K\u001b[K\u001b[K\u001b[K\u001b[K\u001b[K\u001b[K\u001b[K\u001b[K\u001b[K\u001b[K\u001b[K\u001b[K\u001b[K\u001b[K\u001b[K\u001b[K\u001b[K\u001b[K\u001b[K\u001b[K\u001b[K\u001b[K\u001b[K\u001b[K\u001b[K\u001b[K\u001b[K\u001b[K\u001b[K\u001b[K\u001b[K\u001b[K\u001b[K\u001b[K\u001b[K\u001b[K\u001b[K\u001b[K\u001b[K\u001b[K\u001b[K\u001b[K\u001b[K\u001b[K\u001b[K\u001b[K\u001b[K\u001b[K\u001b[K\u001b[K\u001b[K\u001b[K\u001b[K\u001b[K\u001b[K\u001b[K\u001b[K\u001b[K\u001b[K\u001b[K\u001b[K\u001b[K\u001b[K\u001b[K\u001b[K\u001b[K\u001b[K\u001b[K\u001b[K\u001b[K\u001b[K\u001b[K\u001b[K\u001b[K\u001b[K\u001b[K\u001b[K\u001b[K\u001b[K\u001b[K\u001b[K\u001b[K\u001b[K\n",
      "\n",
      "\u001b[92m\u001b[1m\n",
      "We found 11 useful feature(s) for you by search keys: ['date']\u001b[0m\n"
     ]
    },
    {
     "data": {
      "text/html": [
       "<div>\n",
       "<style scoped>\n",
       "    .dataframe tbody tr th:only-of-type {\n",
       "        vertical-align: middle;\n",
       "    }\n",
       "\n",
       "    .dataframe tbody tr th {\n",
       "        vertical-align: top;\n",
       "    }\n",
       "\n",
       "    .dataframe thead th {\n",
       "        text-align: right;\n",
       "    }\n",
       "</style>\n",
       "<table border=\"1\" class=\"dataframe\">\n",
       "  <thead>\n",
       "    <tr style=\"text-align: right;\">\n",
       "      <th></th>\n",
       "      <th>feature_name</th>\n",
       "      <th>shap_value</th>\n",
       "      <th>coverage %</th>\n",
       "      <th>type</th>\n",
       "    </tr>\n",
       "  </thead>\n",
       "  <tbody>\n",
       "    <tr>\n",
       "      <th>0</th>\n",
       "      <td>item</td>\n",
       "      <td>0.435446</td>\n",
       "      <td>100.0</td>\n",
       "      <td>CHARACTER</td>\n",
       "    </tr>\n",
       "    <tr>\n",
       "      <th>1</th>\n",
       "      <td>store</td>\n",
       "      <td>0.173380</td>\n",
       "      <td>100.0</td>\n",
       "      <td>CHARACTER</td>\n",
       "    </tr>\n",
       "    <tr>\n",
       "      <th>2</th>\n",
       "      <td>f_weather_pca_0_94efd18d</td>\n",
       "      <td>0.091020</td>\n",
       "      <td>100.0</td>\n",
       "      <td>NUMERIC</td>\n",
       "    </tr>\n",
       "    <tr>\n",
       "      <th>3</th>\n",
       "      <td>f_week_sin1_a71d22f6</td>\n",
       "      <td>0.024524</td>\n",
       "      <td>100.0</td>\n",
       "      <td>NUMERIC</td>\n",
       "    </tr>\n",
       "    <tr>\n",
       "      <th>4</th>\n",
       "      <td>f_cpi_pca_2_3c36cd6c</td>\n",
       "      <td>0.016749</td>\n",
       "      <td>100.0</td>\n",
       "      <td>NUMERIC</td>\n",
       "    </tr>\n",
       "    <tr>\n",
       "      <th>5</th>\n",
       "      <td>f_year_cos1_cd165f8c</td>\n",
       "      <td>0.013541</td>\n",
       "      <td>100.0</td>\n",
       "      <td>NUMERIC</td>\n",
       "    </tr>\n",
       "    <tr>\n",
       "      <th>6</th>\n",
       "      <td>f_c2c_fraud_score_5028232e</td>\n",
       "      <td>0.009125</td>\n",
       "      <td>100.0</td>\n",
       "      <td>NUMERIC</td>\n",
       "    </tr>\n",
       "    <tr>\n",
       "      <th>7</th>\n",
       "      <td>f_dow_jones_89547e1d</td>\n",
       "      <td>0.008350</td>\n",
       "      <td>100.0</td>\n",
       "      <td>NUMERIC</td>\n",
       "    </tr>\n",
       "    <tr>\n",
       "      <th>8</th>\n",
       "      <td>f_weather_umap_48_66a91289</td>\n",
       "      <td>0.007987</td>\n",
       "      <td>100.0</td>\n",
       "      <td>NUMERIC</td>\n",
       "    </tr>\n",
       "    <tr>\n",
       "      <th>9</th>\n",
       "      <td>f_credit_default_score_05229fa7</td>\n",
       "      <td>0.007271</td>\n",
       "      <td>100.0</td>\n",
       "      <td>NUMERIC</td>\n",
       "    </tr>\n",
       "    <tr>\n",
       "      <th>10</th>\n",
       "      <td>f_weather_umap_30_98fa4f7d</td>\n",
       "      <td>0.006881</td>\n",
       "      <td>100.0</td>\n",
       "      <td>NUMERIC</td>\n",
       "    </tr>\n",
       "    <tr>\n",
       "      <th>11</th>\n",
       "      <td>f_payment_fraud_score_3cae9c42</td>\n",
       "      <td>0.006265</td>\n",
       "      <td>100.0</td>\n",
       "      <td>NUMERIC</td>\n",
       "    </tr>\n",
       "    <tr>\n",
       "      <th>12</th>\n",
       "      <td>f_week_cos1_d3d56d7f</td>\n",
       "      <td>0.005263</td>\n",
       "      <td>100.0</td>\n",
       "      <td>NUMERIC</td>\n",
       "    </tr>\n",
       "  </tbody>\n",
       "</table>\n",
       "</div>"
      ],
      "text/plain": [
       "                       feature_name  shap_value  coverage %       type\n",
       "0                              item    0.435446       100.0  CHARACTER\n",
       "1                             store    0.173380       100.0  CHARACTER\n",
       "2          f_weather_pca_0_94efd18d    0.091020       100.0    NUMERIC\n",
       "3              f_week_sin1_a71d22f6    0.024524       100.0    NUMERIC\n",
       "4              f_cpi_pca_2_3c36cd6c    0.016749       100.0    NUMERIC\n",
       "5              f_year_cos1_cd165f8c    0.013541       100.0    NUMERIC\n",
       "6        f_c2c_fraud_score_5028232e    0.009125       100.0    NUMERIC\n",
       "7              f_dow_jones_89547e1d    0.008350       100.0    NUMERIC\n",
       "8        f_weather_umap_48_66a91289    0.007987       100.0    NUMERIC\n",
       "9   f_credit_default_score_05229fa7    0.007271       100.0    NUMERIC\n",
       "10       f_weather_umap_30_98fa4f7d    0.006881       100.0    NUMERIC\n",
       "11   f_payment_fraud_score_3cae9c42    0.006265       100.0    NUMERIC\n",
       "12             f_week_cos1_d3d56d7f    0.005263       100.0    NUMERIC"
      ]
     },
     "metadata": {},
     "output_type": "display_data"
    }
   ],
   "source": [
    "from upgini import FeaturesEnricher, SearchKey\n",
    "from upgini.metadata import CVType\n",
    "\n",
    "enricher = FeaturesEnricher(\n",
    "    search_keys={\"date\": SearchKey.DATE},\n",
    "    keep_input=True,\n",
    "    cv=CVType.time_series\n",
    ")\n",
    "enricher.fit(train_features, train_target, eval_set=[(test_features, test_target)])"
   ]
  },
  {
   "cell_type": "markdown",
   "metadata": {},
   "source": [
    "In our case the task is auto-detected as a regression. Hence the metric to optimize is auto-selected as RMSE."
   ]
  },
  {
   "cell_type": "markdown",
   "metadata": {},
   "source": [
    "## Get the features and test them locally\n",
    "\n",
    "Finally, we can enrich our datasets with the features found and use them in our own ML pipelines. Lets's enrich both the train and the test datasets."
   ]
  },
  {
   "cell_type": "code",
   "execution_count": 6,
   "metadata": {},
   "outputs": [
    {
     "name": "stdout",
     "output_type": "stream",
     "text": [
      "74.43151% of the rows are fully duplicated\n"
     ]
    },
    {
     "data": {
      "text/html": [
       "<style type=\"text/css\">\n",
       "#T_7154f_row0_col1 {\n",
       "  background-color: #DAF7A6;\n",
       "}\n",
       "</style>\n",
       "<table id=\"T_7154f_\">\n",
       "  <thead>\n",
       "    <tr>\n",
       "      <th class=\"blank level0\" >&nbsp;</th>\n",
       "      <th class=\"col_heading level0 col0\" >Column name</th>\n",
       "      <th class=\"col_heading level0 col1\" >Status</th>\n",
       "      <th class=\"col_heading level0 col2\" >Description</th>\n",
       "    </tr>\n",
       "  </thead>\n",
       "  <tbody>\n",
       "    <tr>\n",
       "      <th id=\"T_7154f_level0_row0\" class=\"row_heading level0 row0\" >0</th>\n",
       "      <td id=\"T_7154f_row0_col0\" class=\"data row0 col0\" >date</td>\n",
       "      <td id=\"T_7154f_row0_col1\" class=\"data row0 col1\" >All valid</td>\n",
       "      <td id=\"T_7154f_row0_col2\" class=\"data row0 col2\" >All values in this column are good to go</td>\n",
       "    </tr>\n",
       "  </tbody>\n",
       "</table>\n"
      ],
      "text/plain": [
       "<pandas.io.formats.style.Styler at 0x162cf3790>"
      ]
     },
     "metadata": {},
     "output_type": "display_data"
    },
    {
     "name": "stdout",
     "output_type": "stream",
     "text": [
      "Running search request with search_id=8ad84636-43e8-4e4d-b767-efec04682335\n",
      "We'll send email notification once it's completed, just use your personal api_key from profile.upgini.com\n",
      "\u001b[KDone                         \u001b[0m \u001b[K\u001b[K\u001b[K\u001b[K\u001b[K\u001b[K\u001b[K\u001b[K\u001b[K\u001b[K\u001b[K\u001b[K\u001b[K\u001b[K\u001b[K\u001b[K\u001b[K\u001b[K\u001b[K\u001b[K\u001b[K\u001b[K\u001b[K\u001b[K\u001b[K\u001b[K\u001b[K\u001b[K\u001b[K\u001b[K\u001b[K\n",
      "\n",
      "Executing transform step\n",
      "\u001b[KDone                         \u001b[0m \n",
      "74.55830% of the rows are fully duplicated\n"
     ]
    },
    {
     "data": {
      "text/html": [
       "<style type=\"text/css\">\n",
       "#T_8cbfa_row0_col1 {\n",
       "  background-color: #DAF7A6;\n",
       "}\n",
       "</style>\n",
       "<table id=\"T_8cbfa_\">\n",
       "  <thead>\n",
       "    <tr>\n",
       "      <th class=\"blank level0\" >&nbsp;</th>\n",
       "      <th class=\"col_heading level0 col0\" >Column name</th>\n",
       "      <th class=\"col_heading level0 col1\" >Status</th>\n",
       "      <th class=\"col_heading level0 col2\" >Description</th>\n",
       "    </tr>\n",
       "  </thead>\n",
       "  <tbody>\n",
       "    <tr>\n",
       "      <th id=\"T_8cbfa_level0_row0\" class=\"row_heading level0 row0\" >0</th>\n",
       "      <td id=\"T_8cbfa_row0_col0\" class=\"data row0 col0\" >date</td>\n",
       "      <td id=\"T_8cbfa_row0_col1\" class=\"data row0 col1\" >All valid</td>\n",
       "      <td id=\"T_8cbfa_row0_col2\" class=\"data row0 col2\" >All values in this column are good to go</td>\n",
       "    </tr>\n",
       "  </tbody>\n",
       "</table>\n"
      ],
      "text/plain": [
       "<pandas.io.formats.style.Styler at 0x162cc3df0>"
      ]
     },
     "metadata": {},
     "output_type": "display_data"
    },
    {
     "name": "stdout",
     "output_type": "stream",
     "text": [
      "Running search request with search_id=ba3a17a3-d8a6-4ada-ac92-ef4ccca21b7d\n",
      "We'll send email notification once it's completed, just use your personal api_key from profile.upgini.com\n",
      "\u001b[KDone                         \u001b[0m \u001b[K\u001b[K\u001b[K\u001b[K\u001b[K\u001b[K\u001b[K\u001b[K\u001b[K\u001b[K\u001b[K\u001b[K\u001b[K\u001b[K\u001b[K\u001b[K\u001b[K\u001b[K\u001b[K\u001b[K\u001b[K\u001b[K\u001b[K\u001b[K\u001b[K\u001b[K\u001b[K\u001b[K\u001b[K\u001b[K\u001b[K\u001b[K\u001b[K\u001b[K\u001b[K\u001b[K\u001b[K\u001b[K\u001b[K\u001b[K\u001b[K\u001b[K\u001b[K\u001b[K\u001b[K\u001b[K\u001b[K\u001b[K\u001b[K\u001b[K\n",
      "\n",
      "Executing transform step\n",
      "\u001b[KDone                         \u001b[0m \n"
     ]
    },
    {
     "data": {
      "text/html": [
       "<div>\n",
       "<style scoped>\n",
       "    .dataframe tbody tr th:only-of-type {\n",
       "        vertical-align: middle;\n",
       "    }\n",
       "\n",
       "    .dataframe tbody tr th {\n",
       "        vertical-align: top;\n",
       "    }\n",
       "\n",
       "    .dataframe thead th {\n",
       "        text-align: right;\n",
       "    }\n",
       "</style>\n",
       "<table border=\"1\" class=\"dataframe\">\n",
       "  <thead>\n",
       "    <tr style=\"text-align: right;\">\n",
       "      <th></th>\n",
       "      <th>date</th>\n",
       "      <th>store</th>\n",
       "      <th>item</th>\n",
       "      <th>f_weather_pca_0_94efd18d</th>\n",
       "      <th>f_week_sin1_a71d22f6</th>\n",
       "      <th>f_cpi_pca_2_3c36cd6c</th>\n",
       "      <th>f_year_cos1_cd165f8c</th>\n",
       "      <th>f_c2c_fraud_score_5028232e</th>\n",
       "      <th>f_dow_jones_89547e1d</th>\n",
       "      <th>f_weather_umap_48_66a91289</th>\n",
       "      <th>f_credit_default_score_05229fa7</th>\n",
       "      <th>f_weather_umap_30_98fa4f7d</th>\n",
       "      <th>f_payment_fraud_score_3cae9c42</th>\n",
       "      <th>f_week_cos1_d3d56d7f</th>\n",
       "    </tr>\n",
       "  </thead>\n",
       "  <tbody>\n",
       "    <tr>\n",
       "      <th>630838</th>\n",
       "      <td>2015-05-19</td>\n",
       "      <td>6</td>\n",
       "      <td>35</td>\n",
       "      <td>-13.630459</td>\n",
       "      <td>0.781831</td>\n",
       "      <td>-24.552701</td>\n",
       "      <td>-0.828770</td>\n",
       "      <td>0.313250</td>\n",
       "      <td>18312.390625</td>\n",
       "      <td>4.268885</td>\n",
       "      <td>0.033271</td>\n",
       "      <td>3.372021</td>\n",
       "      <td>0.093462</td>\n",
       "      <td>0.623490</td>\n",
       "    </tr>\n",
       "    <tr>\n",
       "      <th>365685</th>\n",
       "      <td>2014-05-01</td>\n",
       "      <td>1</td>\n",
       "      <td>21</td>\n",
       "      <td>-5.923637</td>\n",
       "      <td>0.433884</td>\n",
       "      <td>-27.784719</td>\n",
       "      <td>-0.618671</td>\n",
       "      <td>0.424054</td>\n",
       "      <td>16558.869141</td>\n",
       "      <td>3.907936</td>\n",
       "      <td>0.080416</td>\n",
       "      <td>3.313002</td>\n",
       "      <td>0.170168</td>\n",
       "      <td>-0.900969</td>\n",
       "    </tr>\n",
       "    <tr>\n",
       "      <th>322781</th>\n",
       "      <td>2016-11-06</td>\n",
       "      <td>7</td>\n",
       "      <td>18</td>\n",
       "      <td>6.533717</td>\n",
       "      <td>-0.781831</td>\n",
       "      <td>-6.686327</td>\n",
       "      <td>0.704066</td>\n",
       "      <td>0.390712</td>\n",
       "      <td>17888.279297</td>\n",
       "      <td>4.077544</td>\n",
       "      <td>0.130224</td>\n",
       "      <td>3.399531</td>\n",
       "      <td>0.320714</td>\n",
       "      <td>0.623490</td>\n",
       "    </tr>\n",
       "    <tr>\n",
       "      <th>151590</th>\n",
       "      <td>2013-02-02</td>\n",
       "      <td>4</td>\n",
       "      <td>9</td>\n",
       "      <td>29.567388</td>\n",
       "      <td>-0.974928</td>\n",
       "      <td>-43.102328</td>\n",
       "      <td>0.749826</td>\n",
       "      <td>0.414091</td>\n",
       "      <td>14009.790039</td>\n",
       "      <td>3.790206</td>\n",
       "      <td>0.166972</td>\n",
       "      <td>3.523040</td>\n",
       "      <td>0.275836</td>\n",
       "      <td>-0.222521</td>\n",
       "    </tr>\n",
       "    <tr>\n",
       "      <th>572011</th>\n",
       "      <td>2014-04-19</td>\n",
       "      <td>4</td>\n",
       "      <td>32</td>\n",
       "      <td>2.095240</td>\n",
       "      <td>-0.974928</td>\n",
       "      <td>-27.784719</td>\n",
       "      <td>-0.444378</td>\n",
       "      <td>0.409781</td>\n",
       "      <td>16408.539062</td>\n",
       "      <td>3.805812</td>\n",
       "      <td>0.160551</td>\n",
       "      <td>2.945799</td>\n",
       "      <td>0.296320</td>\n",
       "      <td>-0.222521</td>\n",
       "    </tr>\n",
       "  </tbody>\n",
       "</table>\n",
       "</div>"
      ],
      "text/plain": [
       "             date store item  f_weather_pca_0_94efd18d  f_week_sin1_a71d22f6  \\\n",
       "630838 2015-05-19     6   35                -13.630459              0.781831   \n",
       "365685 2014-05-01     1   21                 -5.923637              0.433884   \n",
       "322781 2016-11-06     7   18                  6.533717             -0.781831   \n",
       "151590 2013-02-02     4    9                 29.567388             -0.974928   \n",
       "572011 2014-04-19     4   32                  2.095240             -0.974928   \n",
       "\n",
       "        f_cpi_pca_2_3c36cd6c  f_year_cos1_cd165f8c  \\\n",
       "630838            -24.552701             -0.828770   \n",
       "365685            -27.784719             -0.618671   \n",
       "322781             -6.686327              0.704066   \n",
       "151590            -43.102328              0.749826   \n",
       "572011            -27.784719             -0.444378   \n",
       "\n",
       "        f_c2c_fraud_score_5028232e  f_dow_jones_89547e1d  \\\n",
       "630838                    0.313250          18312.390625   \n",
       "365685                    0.424054          16558.869141   \n",
       "322781                    0.390712          17888.279297   \n",
       "151590                    0.414091          14009.790039   \n",
       "572011                    0.409781          16408.539062   \n",
       "\n",
       "        f_weather_umap_48_66a91289  f_credit_default_score_05229fa7  \\\n",
       "630838                    4.268885                         0.033271   \n",
       "365685                    3.907936                         0.080416   \n",
       "322781                    4.077544                         0.130224   \n",
       "151590                    3.790206                         0.166972   \n",
       "572011                    3.805812                         0.160551   \n",
       "\n",
       "        f_weather_umap_30_98fa4f7d  f_payment_fraud_score_3cae9c42  \\\n",
       "630838                    3.372021                        0.093462   \n",
       "365685                    3.313002                        0.170168   \n",
       "322781                    3.399531                        0.320714   \n",
       "151590                    3.523040                        0.275836   \n",
       "572011                    2.945799                        0.296320   \n",
       "\n",
       "        f_week_cos1_d3d56d7f  \n",
       "630838              0.623490  \n",
       "365685             -0.900969  \n",
       "322781              0.623490  \n",
       "151590             -0.222521  \n",
       "572011             -0.222521  "
      ]
     },
     "execution_count": 6,
     "metadata": {},
     "output_type": "execute_result"
    }
   ],
   "source": [
    "enriched_train_features = enricher.transform(train_features)\n",
    "enriched_test_features = enricher.transform(test_features)\n",
    "enriched_train_features.head()"
   ]
  },
  {
   "cell_type": "markdown",
   "metadata": {},
   "source": [
    "Here, we've got several dozens of extra features in addition to our initial columns. They should improve the quality of our model.\n",
    "\n",
    "Let's evaluate the SMAPE metric on train and test datasets using CatBoost model:"
   ]
  },
  {
   "cell_type": "code",
   "execution_count": 7,
   "metadata": {},
   "outputs": [
    {
     "data": {
      "text/html": [
       "<div>\n",
       "<style scoped>\n",
       "    .dataframe tbody tr th:only-of-type {\n",
       "        vertical-align: middle;\n",
       "    }\n",
       "\n",
       "    .dataframe tbody tr th {\n",
       "        vertical-align: top;\n",
       "    }\n",
       "\n",
       "    .dataframe thead th {\n",
       "        text-align: right;\n",
       "    }\n",
       "</style>\n",
       "<table border=\"1\" class=\"dataframe\">\n",
       "  <thead>\n",
       "    <tr style=\"text-align: right;\">\n",
       "      <th></th>\n",
       "      <th>match_rate</th>\n",
       "      <th>baseline SMAPE</th>\n",
       "      <th>enriched SMAPE</th>\n",
       "      <th>uplift</th>\n",
       "    </tr>\n",
       "    <tr>\n",
       "      <th></th>\n",
       "      <th></th>\n",
       "      <th></th>\n",
       "      <th></th>\n",
       "      <th></th>\n",
       "    </tr>\n",
       "  </thead>\n",
       "  <tbody>\n",
       "    <tr>\n",
       "      <th>train</th>\n",
       "      <td>100.0</td>\n",
       "      <td>-26.015335</td>\n",
       "      <td>-15.363080</td>\n",
       "      <td>10.652255</td>\n",
       "    </tr>\n",
       "    <tr>\n",
       "      <th>eval 1</th>\n",
       "      <td>100.0</td>\n",
       "      <td>-25.342502</td>\n",
       "      <td>-13.347232</td>\n",
       "      <td>11.995270</td>\n",
       "    </tr>\n",
       "  </tbody>\n",
       "</table>\n",
       "</div>"
      ],
      "text/plain": [
       "        match_rate  baseline SMAPE  enriched SMAPE     uplift\n",
       "                                                             \n",
       "train        100.0      -26.015335      -15.363080  10.652255\n",
       "eval 1       100.0      -25.342502      -13.347232  11.995270"
      ]
     },
     "execution_count": 7,
     "metadata": {},
     "output_type": "execute_result"
    }
   ],
   "source": [
    "from catboost import CatBoostRegressor\n",
    "from catboost.utils import eval_metric\n",
    "from sklearn.metrics import make_scorer\n",
    "\n",
    "model = CatBoostRegressor(verbose=False, allow_writing_files=False, random_state=0)\n",
    "smape_scorer = make_scorer(\n",
    "    lambda y_true, y_pred: eval_metric(y_true.values, y_pred, \"SMAPE\")[0], \n",
    "    greater_is_better=False\n",
    ")\n",
    "smape_scorer.__name__ = \"SMAPE\"\n",
    "enricher.calculate_metrics(\n",
    "    train_features, train_target, \n",
    "    eval_set=[(test_features, test_target)],\n",
    "    estimator=model,\n",
    "    scoring=smape_scorer\n",
    ")"
   ]
  },
  {
   "cell_type": "markdown",
   "metadata": {},
   "source": [
    "In the output you see SMAPE values for the train dataset (using cross-validation) and for every evaluation dataset we have provided. There are also match rate values (a percent share of rows enriched with features) and uplift values (a relative improvement in SMAPE for the enriched dataset over the initial dataset).\n",
    "Here we can see a strong uplift both on the cross-validation and on the out-of-time validation dataset."
   ]
  },
  {
   "cell_type": "markdown",
   "metadata": {},
   "source": [
    "You see a much better result after the enrichment. That's the magic of using our library."
   ]
  }
 ],
 "metadata": {
  "interpreter": {
   "hash": "84d3963f7282eecda7b76a14a104c509e6daebf9e3eef3217fda5c175b1d27a9"
  },
  "kernelspec": {
   "display_name": "Python 3",
   "language": "python",
   "name": "python3"
  },
  "language_info": {
   "codemirror_mode": {
    "name": "ipython",
    "version": 3
   },
   "file_extension": ".py",
   "mimetype": "text/x-python",
   "name": "python",
   "nbconvert_exporter": "python",
   "pygments_lexer": "ipython3",
   "version": "3.8.13"
  }
 },
 "nbformat": 4,
 "nbformat_minor": 2
}
