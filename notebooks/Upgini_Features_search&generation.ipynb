{
  "cells": [
    {
      "cell_type": "markdown",
      "metadata": {
        "id": "3Ygzur-kaIYv"
      },
      "source": [
        "![alt text](\n",
        "https://upgini.com/lib_tHloTHmnvYomfhRQ/1lth2xdahxnz5tr4.svg?w=206)   \n",
        "##[Intelligent data search & enrichment engine for Machine Learning](https://upgini.com)\n",
        "### Quick Start guide:\n",
        "### Search of relevant external features &  Automated feature generation for Salary predicton task  \n",
        "_________________\n",
        "\n",
        "Following this guide, you'll learn how to **search & auto generate new relevant features with Upgini library, in just 6 lines of code.**  \n",
        "We will enrich a training dataset with both external & automaticaly generated features and significantly improve model accuracy.  \n",
        "*The goal is to predict salary for data science job postning based on information about employer and job description.*  \n",
        "The evaluation metric is Mean Absolute Error (MAE).  \n",
        "⏱ Time needed: *15 minutes.*  \n",
        "\n",
        "Download this notebook: [GitHub Link](https://github.com/upgini/upgini/blob/main/notebooks/Upgini_Features_search&generation.ipynb)\n",
        "_________________\n",
        "\n",
        "First, let's install latest version of Upgini library."
      ]
    },
    {
      "cell_type": "code",
      "execution_count": null,
      "metadata": {
        "id": "oOpVMpDUZrvt"
      },
      "outputs": [],
      "source": [
        "%pip install -Uq upgini catboost"
      ]
    },
    {
      "cell_type": "markdown",
      "metadata": {
        "id": "QzfajV5ukwZN"
      },
      "source": [
        "## 1️⃣ Use your labeled training dataset for search & feature generation\n",
        "\n",
        "You can use your labeled training datasets \"as is\" to initiate the search.  \n",
        "For this guide we'll use the dataset from [Glasdoor salary prediction](https://www.kaggle.com/datasets/thedevastator/jobs-dataset-from-glassdoor) with geocoded addresses of employers as a postal/ZIP codes. You can download extended version [here](https://github.com/upgini/upgini/blob/main/notebooks/demo_salary.csv.zip).  \n",
        "*This dataset contains job postings from Glassdoor.com from 2017, with several text columns including Job title, Job description, and Company name.*  \n",
        "License CC0: Public Domain  \n",
        "The goal is to predict salary for data science job postning.\n",
        "The column with the target label for salary prediction is `avg_salary`.  \n",
        "> ⚠️ All columns in the input dataset with dates/datetime should be converted to pandas datetime object for correct datetime representation\n"
      ]
    },
    {
      "cell_type": "code",
      "execution_count": 2,
      "metadata": {
        "colab": {
          "base_uri": "https://localhost:8080/",
          "height": 379
        },
        "id": "CXBayn8onpDp",
        "outputId": "267f6199-25f3-4a09-8dab-078e176d0650"
      },
      "outputs": [
        {
          "output_type": "execute_result",
          "data": {
            "text/plain": [
              "                                 Company Name         Location   Headquarters  \\\n",
              "0                      Tecolote Research\\n3.8  Albuquerque, NM     Goleta, CA   \n",
              "1  University of Maryland Medical System\\n3.4    Linthicum, MD  Baltimore, MD   \n",
              "\n",
              "                    Size  Founded   Type of ownership  \\\n",
              "0  501 to 1000 employees     1973   Company - Private   \n",
              "1       10000+ employees     1984  Other Organization   \n",
              "\n",
              "                           Industry               Sector  \\\n",
              "0               Aerospace & Defense  Aerospace & Defense   \n",
              "1  Health Care Services & Hospitals          Health Care   \n",
              "\n",
              "                     Revenue  avg_salary  ... R_yn spark  aws  excel  \\\n",
              "0  $50 to $100 million (USD)        72.0  ...    0     0    0      1   \n",
              "1     $2 to $5 billion (USD)        87.5  ...    0     0    0      0   \n",
              "\n",
              "         job_simp  desc_len  num_comp  Postal_code  country  \\\n",
              "0  data scientist      2536         0        87102       US   \n",
              "1  data scientist      4783         0        21090       US   \n",
              "\n",
              "                                            combined  \n",
              "0  Job title: Data Scientist; Job Description: Da...  \n",
              "1  Job title: Healthcare Data Scientist; Job Desc...  \n",
              "\n",
              "[2 rows x 25 columns]"
            ],
            "text/html": [
              "\n",
              "  <div id=\"df-8211b709-29c3-45e9-84c5-be03c0787f46\">\n",
              "    <div class=\"colab-df-container\">\n",
              "      <div>\n",
              "<style scoped>\n",
              "    .dataframe tbody tr th:only-of-type {\n",
              "        vertical-align: middle;\n",
              "    }\n",
              "\n",
              "    .dataframe tbody tr th {\n",
              "        vertical-align: top;\n",
              "    }\n",
              "\n",
              "    .dataframe thead th {\n",
              "        text-align: right;\n",
              "    }\n",
              "</style>\n",
              "<table border=\"1\" class=\"dataframe\">\n",
              "  <thead>\n",
              "    <tr style=\"text-align: right;\">\n",
              "      <th></th>\n",
              "      <th>Company Name</th>\n",
              "      <th>Location</th>\n",
              "      <th>Headquarters</th>\n",
              "      <th>Size</th>\n",
              "      <th>Founded</th>\n",
              "      <th>Type of ownership</th>\n",
              "      <th>Industry</th>\n",
              "      <th>Sector</th>\n",
              "      <th>Revenue</th>\n",
              "      <th>avg_salary</th>\n",
              "      <th>...</th>\n",
              "      <th>R_yn</th>\n",
              "      <th>spark</th>\n",
              "      <th>aws</th>\n",
              "      <th>excel</th>\n",
              "      <th>job_simp</th>\n",
              "      <th>desc_len</th>\n",
              "      <th>num_comp</th>\n",
              "      <th>Postal_code</th>\n",
              "      <th>country</th>\n",
              "      <th>combined</th>\n",
              "    </tr>\n",
              "  </thead>\n",
              "  <tbody>\n",
              "    <tr>\n",
              "      <th>0</th>\n",
              "      <td>Tecolote Research\\n3.8</td>\n",
              "      <td>Albuquerque, NM</td>\n",
              "      <td>Goleta, CA</td>\n",
              "      <td>501 to 1000 employees</td>\n",
              "      <td>1973</td>\n",
              "      <td>Company - Private</td>\n",
              "      <td>Aerospace &amp; Defense</td>\n",
              "      <td>Aerospace &amp; Defense</td>\n",
              "      <td>$50 to $100 million (USD)</td>\n",
              "      <td>72.0</td>\n",
              "      <td>...</td>\n",
              "      <td>0</td>\n",
              "      <td>0</td>\n",
              "      <td>0</td>\n",
              "      <td>1</td>\n",
              "      <td>data scientist</td>\n",
              "      <td>2536</td>\n",
              "      <td>0</td>\n",
              "      <td>87102</td>\n",
              "      <td>US</td>\n",
              "      <td>Job title: Data Scientist; Job Description: Da...</td>\n",
              "    </tr>\n",
              "    <tr>\n",
              "      <th>1</th>\n",
              "      <td>University of Maryland Medical System\\n3.4</td>\n",
              "      <td>Linthicum, MD</td>\n",
              "      <td>Baltimore, MD</td>\n",
              "      <td>10000+ employees</td>\n",
              "      <td>1984</td>\n",
              "      <td>Other Organization</td>\n",
              "      <td>Health Care Services &amp; Hospitals</td>\n",
              "      <td>Health Care</td>\n",
              "      <td>$2 to $5 billion (USD)</td>\n",
              "      <td>87.5</td>\n",
              "      <td>...</td>\n",
              "      <td>0</td>\n",
              "      <td>0</td>\n",
              "      <td>0</td>\n",
              "      <td>0</td>\n",
              "      <td>data scientist</td>\n",
              "      <td>4783</td>\n",
              "      <td>0</td>\n",
              "      <td>21090</td>\n",
              "      <td>US</td>\n",
              "      <td>Job title: Healthcare Data Scientist; Job Desc...</td>\n",
              "    </tr>\n",
              "  </tbody>\n",
              "</table>\n",
              "<p>2 rows × 25 columns</p>\n",
              "</div>\n",
              "      <button class=\"colab-df-convert\" onclick=\"convertToInteractive('df-8211b709-29c3-45e9-84c5-be03c0787f46')\"\n",
              "              title=\"Convert this dataframe to an interactive table.\"\n",
              "              style=\"display:none;\">\n",
              "        \n",
              "  <svg xmlns=\"http://www.w3.org/2000/svg\" height=\"24px\"viewBox=\"0 0 24 24\"\n",
              "       width=\"24px\">\n",
              "    <path d=\"M0 0h24v24H0V0z\" fill=\"none\"/>\n",
              "    <path d=\"M18.56 5.44l.94 2.06.94-2.06 2.06-.94-2.06-.94-.94-2.06-.94 2.06-2.06.94zm-11 1L8.5 8.5l.94-2.06 2.06-.94-2.06-.94L8.5 2.5l-.94 2.06-2.06.94zm10 10l.94 2.06.94-2.06 2.06-.94-2.06-.94-.94-2.06-.94 2.06-2.06.94z\"/><path d=\"M17.41 7.96l-1.37-1.37c-.4-.4-.92-.59-1.43-.59-.52 0-1.04.2-1.43.59L10.3 9.45l-7.72 7.72c-.78.78-.78 2.05 0 2.83L4 21.41c.39.39.9.59 1.41.59.51 0 1.02-.2 1.41-.59l7.78-7.78 2.81-2.81c.8-.78.8-2.07 0-2.86zM5.41 20L4 18.59l7.72-7.72 1.47 1.35L5.41 20z\"/>\n",
              "  </svg>\n",
              "      </button>\n",
              "      \n",
              "  <style>\n",
              "    .colab-df-container {\n",
              "      display:flex;\n",
              "      flex-wrap:wrap;\n",
              "      gap: 12px;\n",
              "    }\n",
              "\n",
              "    .colab-df-convert {\n",
              "      background-color: #E8F0FE;\n",
              "      border: none;\n",
              "      border-radius: 50%;\n",
              "      cursor: pointer;\n",
              "      display: none;\n",
              "      fill: #1967D2;\n",
              "      height: 32px;\n",
              "      padding: 0 0 0 0;\n",
              "      width: 32px;\n",
              "    }\n",
              "\n",
              "    .colab-df-convert:hover {\n",
              "      background-color: #E2EBFA;\n",
              "      box-shadow: 0px 1px 2px rgba(60, 64, 67, 0.3), 0px 1px 3px 1px rgba(60, 64, 67, 0.15);\n",
              "      fill: #174EA6;\n",
              "    }\n",
              "\n",
              "    [theme=dark] .colab-df-convert {\n",
              "      background-color: #3B4455;\n",
              "      fill: #D2E3FC;\n",
              "    }\n",
              "\n",
              "    [theme=dark] .colab-df-convert:hover {\n",
              "      background-color: #434B5C;\n",
              "      box-shadow: 0px 1px 3px 1px rgba(0, 0, 0, 0.15);\n",
              "      filter: drop-shadow(0px 1px 2px rgba(0, 0, 0, 0.3));\n",
              "      fill: #FFFFFF;\n",
              "    }\n",
              "  </style>\n",
              "\n",
              "      <script>\n",
              "        const buttonEl =\n",
              "          document.querySelector('#df-8211b709-29c3-45e9-84c5-be03c0787f46 button.colab-df-convert');\n",
              "        buttonEl.style.display =\n",
              "          google.colab.kernel.accessAllowed ? 'block' : 'none';\n",
              "\n",
              "        async function convertToInteractive(key) {\n",
              "          const element = document.querySelector('#df-8211b709-29c3-45e9-84c5-be03c0787f46');\n",
              "          const dataTable =\n",
              "            await google.colab.kernel.invokeFunction('convertToInteractive',\n",
              "                                                     [key], {});\n",
              "          if (!dataTable) return;\n",
              "\n",
              "          const docLinkHtml = 'Like what you see? Visit the ' +\n",
              "            '<a target=\"_blank\" href=https://colab.research.google.com/notebooks/data_table.ipynb>data table notebook</a>'\n",
              "            + ' to learn more about interactive tables.';\n",
              "          element.innerHTML = '';\n",
              "          dataTable['output_type'] = 'display_data';\n",
              "          await google.colab.output.renderOutput(dataTable, element);\n",
              "          const docLink = document.createElement('div');\n",
              "          docLink.innerHTML = docLinkHtml;\n",
              "          element.appendChild(docLink);\n",
              "        }\n",
              "      </script>\n",
              "    </div>\n",
              "  </div>\n",
              "  "
            ]
          },
          "metadata": {},
          "execution_count": 2
        }
      ],
      "source": [
        "from os.path import exists\n",
        "import pandas as pd\n",
        "\n",
        "df_path = \"demo_salary.csv.zip\" if exists(\"demo_salary.csv.zip\") else \"https://github.com/upgini/upgini/raw/main/notebooks/demo_salary.csv.zip\"\n",
        "df = pd.read_csv(df_path)\n",
        "df.head(2)"
      ]
    },
    {
      "cell_type": "markdown",
      "metadata": {
        "id": "quAMYyZ1rNgQ"
      },
      "source": [
        "## 2️⃣ Choose one or multiple columns as a search keys, select columns for automated feature generation\n",
        "\n",
        "Under the hood, we'll search for relevant data using:\n",
        "- **[search keys](https://github.com/upgini/upgini#-search-key-types-we-support-more-to-come)** from training dataset to match records from potential data sources with a new features\n",
        "- **labels** from the training dataset to estimate the relevancy of candidate features for your ML task and calculate feature importance metrics  \n",
        "- **your features** from the training dataset to find external datasets and features that will improve accuracy in addition to your existing features and estimate accuracy uplift ([optional](https://github.com/upgini/upgini#find-features-only-give-accuracy-gain-to-existing-data-in-the-ml-model))\n",
        "\n",
        "\n",
        "Define one or multiple columns as a search keys  and select **text columns** for automated feature generation, in this example `'combined', 'company_txt'`  \n",
        "\n",
        ">⚠️ This search task will be auto-detected as a regression. If you have time series prediction (for example, daily sales as a target variable) and not just simple regression, you have to pass [**time series specific cross-validation split**](https://github.com/upgini/upgini#-time-series-prediction-support) **`CVType.time_series`**, as well"
      ]
    },
    {
      "cell_type": "code",
      "execution_count": 3,
      "metadata": {
        "id": "gPQ7uVDSMvGG"
      },
      "outputs": [],
      "source": [
        "from upgini import FeaturesEnricher, SearchKey\n",
        "\n",
        "enricher = FeaturesEnricher(\n",
        "    search_keys={\n",
        "    'country': SearchKey.COUNTRY,\n",
        "    'Postal_code': SearchKey.POSTAL_CODE},\n",
        "    generate_features=['combined', 'company_txt'])"
      ]
    },
    {
      "cell_type": "markdown",
      "metadata": {
        "id": "UECRWVWBZ6Ol"
      },
      "source": [
        "## 3️⃣ Start your search & feature generation with Scikit-learn compatible estimator\n",
        "\n",
        "The main abstraction you interact with is `FeaturesEnricher`, a Scikit-learn compatible estimator.  You can easily add it into your existing ML pipelines. \n",
        "Create instance of the `FeaturesEnricher` class and call:\n",
        "- `fit()` to search relevant datasets & features  \n",
        "- than `transform()` to enrich your dataset with features from search result\n",
        "- or combine both steps with a single method `fit_transform()`\n",
        "\n",
        "You need to separate features from targets in *a scikit-learn style* (X and y).\n",
        "\n",
        "> Search step will take around *12 minutes* for this training dataset"
      ]
    },
    {
      "cell_type": "code",
      "execution_count": 4,
      "metadata": {
        "colab": {
          "base_uri": "https://localhost:8080/",
          "height": 1000
        },
        "id": "wS3g38jKZ7D1",
        "outputId": "89bb7590-8e30-4fd7-ab9c-58b27aaeefe5"
      },
      "outputs": [
        {
          "data": {
            "application/javascript": [
              "\n",
              "                        window.clientIP =\n",
              "                            fetch(\"https://api.ipify.org\")\n",
              "                            .then(response => response.text())\n",
              "                            .then(data => data);\n",
              "                        const fpPromise = import('https://openfpcdn.io/fingerprintjs/v3')\n",
              "                            .then(FingerprintJS => FingerprintJS.load())\n",
              "                        window.visitorId =\n",
              "                            fpPromise\n",
              "                            .then(fp => fp.get())\n",
              "                            .then(result => result.visitorId)\n",
              "                    "
            ],
            "text/plain": [
              "<IPython.core.display.Javascript object>"
            ]
          },
          "metadata": {},
          "output_type": "display_data"
        },
        {
          "metadata": {
            "tags": null
          },
          "name": "stdout",
          "output_type": "stream",
          "text": [
            "Demo training dataset detected. Registration for an API key is not required.\n",
            "Detected task type: ModelTaskType.REGRESSION\n",
            "\n",
            "Columns ['R_yn'] has value with frequency more than 99%, removed from X\n"
          ]
        },
        {
          "data": {
            "text/html": [
              "<table><tr><th style='font-weight:bold'>Column name</th><th style='font-weight:bold'>Status</th><th style='font-weight:bold'>Errors</th></tr><tr><td>target</td><td style='background-color:#DAF7A6;color:black'>All valid</td><td>-</td></tr><tr><td>Postal_code</td><td style='background-color:#FFC300;color:black'>Some invalid</td><td>2.2% values failed validation and removed from dataframe, invalid values: [&lt;NA&gt;, &lt;NA&gt;, &lt;NA&gt;, &lt;NA&gt;, &lt;NA&gt;]</td></tr><tr><td>country</td><td style='background-color:#DAF7A6;color:black'>All valid</td><td>-</td></tr></table>"
            ],
            "text/plain": [
              "<IPython.core.display.HTML object>"
            ]
          },
          "metadata": {},
          "output_type": "display_data"
        },
        {
          "output_type": "stream",
          "name": "stdout",
          "text": [
            "\n",
            "Running search request, search_id=5a6543a8-c31e-4e5f-961a-f2c4260b9219\n",
            "We'll send email notification once it's completed, just use your personal api_key from profile.upgini.com\n",
            "\n",
            "\u001b[92m\u001b[1m\n",
            "58 relevant feature(s) found with the search keys: ['country', 'Postal_code']\u001b[0m\n"
          ]
        },
        {
          "output_type": "display_data",
          "data": {
            "text/plain": [
              "<IPython.core.display.HTML object>"
            ],
            "text/html": [
              "<style>\n",
              "            .upgini-df thead th {\n",
              "                font-weight:bold;\n",
              "                text-align: right;\n",
              "                padding: 0.5em;\n",
              "            }\n",
              "\n",
              "            .upgini-df td {\n",
              "                padding: 0.5em;\n",
              "            }\n",
              "\n",
              "            .upgini-text {\n",
              "                text-align: right;\n",
              "            }\n",
              "\n",
              "            .upgini-number {\n",
              "                text-align: center;\n",
              "            }\n",
              "        </style><table class='upgini-df'><thead><th>Provider</th><th>Source</th><th>Feature name</th><th>SHAP value</th><th>Coverage %</th><th>Type</th><th>Feature type</th></thead><tbody><tr><td class='upgini-text'></td><td class='upgini-text'></td><td class='upgini-text'>job_simp</td><td class='upgini-number'>0.210905</td><td class='upgini-number'>100.000000</td><td class='upgini-text'>categorical</td><td class='upgini-text'></td></tr><tr><td class='upgini-text'></td><td class='upgini-text'></td><td class='upgini-text'>combined_aa4bpw_emb1064</td><td class='upgini-number'>0.051069</td><td class='upgini-number'>100.000000</td><td class='upgini-text'>numerical</td><td class='upgini-text'></td></tr><tr><td class='upgini-text'></td><td class='upgini-text'></td><td class='upgini-text'>combined_aa4bpw_emb978</td><td class='upgini-number'>0.042236</td><td class='upgini-number'>100.000000</td><td class='upgini-text'>numerical</td><td class='upgini-text'></td></tr><tr><td class='upgini-text'><a href='https://upgini.com' target='_blank' rel='noopener noreferrer'>Upgini</a></td><td class='upgini-text'><a href='https://upgini.com/#data_sources' target='_blank' rel='noopener noreferrer'>Community data</a></td><td class='upgini-text'>f_marketing_country_postal_person_ethnic_code_non_europe_prc_4b43eb96</td><td class='upgini-number'>0.032441</td><td class='upgini-number'>83.189655</td><td class='upgini-text'>numerical</td><td class='upgini-text'>Trial</td></tr><tr><td class='upgini-text'><a href='https://upgini.com' target='_blank' rel='noopener noreferrer'>Upgini</a></td><td class='upgini-text'><a href='https://upgini.com/#data_sources' target='_blank' rel='noopener noreferrer'>Public data</a></td><td class='upgini-text'><a href='https://docs.upgini.com/public/telecom/cell_towers_radius_ads#f_telecom_country_postal_cells_CDMA_5km_samples_max_ca41aa64' target='_blank' rel='noopener noreferrer'>f_telecom_country_postal_cells_CDMA_5km_samples_max_ca41aa64</a></td><td class='upgini-number'>0.024217</td><td class='upgini-number'>96.982759</td><td class='upgini-text'>numerical</td><td class='upgini-text'>Free</td></tr><tr><td class='upgini-text'><a href='https://upgini.com' target='_blank' rel='noopener noreferrer'>Upgini</a></td><td class='upgini-text'><a href='https://upgini.com/#data_sources' target='_blank' rel='noopener noreferrer'>Community data</a></td><td class='upgini-text'>f_marketing_country_postal_home_value_kusd_avg_4fc1d593</td><td class='upgini-number'>0.024120</td><td class='upgini-number'>83.189655</td><td class='upgini-text'>numerical</td><td class='upgini-text'>Trial</td></tr><tr><td class='upgini-text'></td><td class='upgini-text'></td><td class='upgini-text'><a href='https://docs.upgini.com/public/osm/population_ads#f_location_country_postal_population_1km_67cde37f' target='_blank' rel='noopener noreferrer'>f_location_country_postal_population_1km_67cde37f</a></td><td class='upgini-number'>0.021634</td><td class='upgini-number'>96.982759</td><td class='upgini-text'>numerical</td><td class='upgini-text'>Free</td></tr><tr><td class='upgini-text'></td><td class='upgini-text'></td><td class='upgini-text'>combined_aa4bpw_emb4</td><td class='upgini-number'>0.020669</td><td class='upgini-number'>100.000000</td><td class='upgini-text'>numerical</td><td class='upgini-text'></td></tr><tr><td class='upgini-text'><a href='https://upgini.com' target='_blank' rel='noopener noreferrer'>Upgini</a></td><td class='upgini-text'><a href='https://upgini.com/#data_sources' target='_blank' rel='noopener noreferrer'>Public data</a></td><td class='upgini-text'><a href='https://docs.upgini.com/public/telecom/cell_towers_mls_radius_ads#f_telecom_country_postal_cells_UMTS_20km_days_from_update_avg_035d9ad6' target='_blank' rel='noopener noreferrer'>f_telecom_country_postal_cells_UMTS_20km_days_from_update_avg_035d9ad6</a></td><td class='upgini-number'>0.020604</td><td class='upgini-number'>96.982759</td><td class='upgini-text'>numerical</td><td class='upgini-text'>Free</td></tr><tr><td class='upgini-text'><a href='https://upgini.com' target='_blank' rel='noopener noreferrer'>Upgini</a></td><td class='upgini-text'><a href='https://upgini.com/#data_sources' target='_blank' rel='noopener noreferrer'>Public data</a></td><td class='upgini-text'><a href='https://docs.upgini.com/public/osm/census_data_zip_ads#f_location_country_postal_asian_population_prcnt_a93958d5' target='_blank' rel='noopener noreferrer'>f_location_country_postal_asian_population_prcnt_a93958d5</a></td><td class='upgini-number'>0.019253</td><td class='upgini-number'>65.732759</td><td class='upgini-text'>numerical</td><td class='upgini-text'>Free</td></tr><tr><td class='upgini-text'></td><td class='upgini-text'></td><td class='upgini-text'>combined_aa4bpw_emb1000</td><td class='upgini-number'>0.016203</td><td class='upgini-number'>100.000000</td><td class='upgini-text'>numerical</td><td class='upgini-text'></td></tr><tr><td class='upgini-text'></td><td class='upgini-text'></td><td class='upgini-text'>combined_aa4bpw_emb462</td><td class='upgini-number'>0.013466</td><td class='upgini-number'>100.000000</td><td class='upgini-text'>numerical</td><td class='upgini-text'></td></tr><tr><td class='upgini-text'><a href='https://upgini.com' target='_blank' rel='noopener noreferrer'>Upgini</a></td><td class='upgini-text'><a href='https://upgini.com/#data_sources' target='_blank' rel='noopener noreferrer'>Community data</a></td><td class='upgini-text'>f_marketing_country_postal_home_value_code_d_prc_b545b4dc</td><td class='upgini-number'>0.012740</td><td class='upgini-number'>83.189655</td><td class='upgini-text'>numerical</td><td class='upgini-text'>Trial</td></tr><tr><td class='upgini-text'><a href='https://upgini.com' target='_blank' rel='noopener noreferrer'>Upgini</a></td><td class='upgini-text'><a href='https://upgini.com/#data_sources' target='_blank' rel='noopener noreferrer'>Community data</a></td><td class='upgini-text'>f_marketing_country_postal_square_value_fc9801fe</td><td class='upgini-number'>0.012581</td><td class='upgini-number'>80.818966</td><td class='upgini-text'>numerical</td><td class='upgini-text'>Trial</td></tr><tr><td class='upgini-text'><a href='https://upgini.com' target='_blank' rel='noopener noreferrer'>Upgini</a></td><td class='upgini-text'><a href='https://upgini.com/#data_sources' target='_blank' rel='noopener noreferrer'>Community data</a></td><td class='upgini-text'><a href='https://docs.upgini.com/public/realty/realty_source_2#f_location_country_postal_realty_price_1bedroom_d35b6a53' target='_blank' rel='noopener noreferrer'>f_location_country_postal_realty_price_1bedroom_d35b6a53</a></td><td class='upgini-number'>0.011707</td><td class='upgini-number'>59.267241</td><td class='upgini-text'>numerical</td><td class='upgini-text'>Trial</td></tr><tr><td class='upgini-text'></td><td class='upgini-text'></td><td class='upgini-text'>company_txt_aa4bpw_emb205</td><td class='upgini-number'>0.011395</td><td class='upgini-number'>100.000000</td><td class='upgini-text'>numerical</td><td class='upgini-text'></td></tr><tr><td class='upgini-text'><a href='https://upgini.com' target='_blank' rel='noopener noreferrer'>Upgini</a></td><td class='upgini-text'><a href='https://upgini.com/#data_sources' target='_blank' rel='noopener noreferrer'>Public data</a></td><td class='upgini-text'><a href='https://docs.upgini.com/public/telecom/cell_towers_radius_ads#f_telecom_country_postal_cells_10km_days_from_update_max_e92568d8' target='_blank' rel='noopener noreferrer'>f_telecom_country_postal_cells_10km_days_from_update_max_e92568d8</a></td><td class='upgini-number'>0.009609</td><td class='upgini-number'>96.982759</td><td class='upgini-text'>numerical</td><td class='upgini-text'>Free</td></tr><tr><td class='upgini-text'><a href='https://upgini.com' target='_blank' rel='noopener noreferrer'>Upgini</a></td><td class='upgini-text'><a href='https://upgini.com/#data_sources' target='_blank' rel='noopener noreferrer'>Community data</a></td><td class='upgini-text'>f_marketing_country_postal_income_100000_149999_prc_1cb5c4f2</td><td class='upgini-number'>0.008766</td><td class='upgini-number'>83.189655</td><td class='upgini-text'>numerical</td><td class='upgini-text'>Trial</td></tr><tr><td class='upgini-text'></td><td class='upgini-text'></td><td class='upgini-text'>company_txt_aa4bpw_emb793</td><td class='upgini-number'>0.008482</td><td class='upgini-number'>100.000000</td><td class='upgini-text'>numerical</td><td class='upgini-text'></td></tr><tr><td class='upgini-text'></td><td class='upgini-text'></td><td class='upgini-text'>company_txt_aa4bpw_emb921</td><td class='upgini-number'>0.008368</td><td class='upgini-number'>100.000000</td><td class='upgini-text'>numerical</td><td class='upgini-text'></td></tr><tr><td class='upgini-text'></td><td class='upgini-text'></td><td class='upgini-text'>combined_aa4bpw_emb944</td><td class='upgini-number'>0.008208</td><td class='upgini-number'>100.000000</td><td class='upgini-text'>numerical</td><td class='upgini-text'></td></tr><tr><td class='upgini-text'></td><td class='upgini-text'></td><td class='upgini-text'>combined_aa4bpw_emb1150</td><td class='upgini-number'>0.007840</td><td class='upgini-number'>100.000000</td><td class='upgini-text'>numerical</td><td class='upgini-text'></td></tr><tr><td class='upgini-text'></td><td class='upgini-text'></td><td class='upgini-text'>combined_aa4bpw_emb739</td><td class='upgini-number'>0.007743</td><td class='upgini-number'>100.000000</td><td class='upgini-text'>numerical</td><td class='upgini-text'></td></tr><tr><td class='upgini-text'></td><td class='upgini-text'></td><td class='upgini-text'>combined_aa4bpw_emb857</td><td class='upgini-number'>0.007280</td><td class='upgini-number'>100.000000</td><td class='upgini-text'>numerical</td><td class='upgini-text'></td></tr><tr><td class='upgini-text'></td><td class='upgini-text'></td><td class='upgini-text'>combined_aa4bpw_emb742</td><td class='upgini-number'>0.007204</td><td class='upgini-number'>100.000000</td><td class='upgini-text'>numerical</td><td class='upgini-text'></td></tr><tr><td class='upgini-text'><a href='https://upgini.com' target='_blank' rel='noopener noreferrer'>Upgini</a></td><td class='upgini-text'><a href='https://upgini.com/#data_sources' target='_blank' rel='noopener noreferrer'>Public data</a></td><td class='upgini-text'><a href='https://docs.upgini.com/public/telecom/cell_towers_radius_ads#f_telecom_country_postal_cells_1km_days_from_update_max_2d067097' target='_blank' rel='noopener noreferrer'>f_telecom_country_postal_cells_1km_days_from_update_max_2d067097</a></td><td class='upgini-number'>0.006906</td><td class='upgini-number'>96.982759</td><td class='upgini-text'>numerical</td><td class='upgini-text'>Free</td></tr><tr><td class='upgini-text'></td><td class='upgini-text'></td><td class='upgini-text'>combined_aa4bpw_emb1454</td><td class='upgini-number'>0.006394</td><td class='upgini-number'>100.000000</td><td class='upgini-text'>numerical</td><td class='upgini-text'></td></tr><tr><td class='upgini-text'><a href='https://upgini.com' target='_blank' rel='noopener noreferrer'>Upgini</a></td><td class='upgini-text'><a href='https://upgini.com/#data_sources' target='_blank' rel='noopener noreferrer'>Public data</a></td><td class='upgini-text'><a href='https://docs.upgini.com/public/telecom/cell_towers_mls_radius_ads#f_telecom_country_postal_cells_UMTS_10km_days_from_update_avg_7a29f5fa' target='_blank' rel='noopener noreferrer'>f_telecom_country_postal_cells_UMTS_10km_days_from_update_avg_7a29f5fa</a></td><td class='upgini-number'>0.006156</td><td class='upgini-number'>96.982759</td><td class='upgini-text'>numerical</td><td class='upgini-text'>Free</td></tr><tr><td class='upgini-text'></td><td class='upgini-text'></td><td class='upgini-text'>combined_aa4bpw_emb859</td><td class='upgini-number'>0.006124</td><td class='upgini-number'>100.000000</td><td class='upgini-text'>numerical</td><td class='upgini-text'></td></tr><tr><td class='upgini-text'></td><td class='upgini-text'></td><td class='upgini-text'>combined_aa4bpw_emb257</td><td class='upgini-number'>0.006112</td><td class='upgini-number'>100.000000</td><td class='upgini-text'>numerical</td><td class='upgini-text'></td></tr><tr><td class='upgini-text'></td><td class='upgini-text'></td><td class='upgini-text'>combined_aa4bpw_emb610</td><td class='upgini-number'>0.005616</td><td class='upgini-number'>100.000000</td><td class='upgini-text'>numerical</td><td class='upgini-text'></td></tr><tr><td class='upgini-text'></td><td class='upgini-text'></td><td class='upgini-text'>company_txt_aa4bpw_emb96</td><td class='upgini-number'>0.005613</td><td class='upgini-number'>100.000000</td><td class='upgini-text'>numerical</td><td class='upgini-text'></td></tr><tr><td class='upgini-text'><a href='https://upgini.com' target='_blank' rel='noopener noreferrer'>Upgini</a></td><td class='upgini-text'><a href='https://upgini.com/#data_sources' target='_blank' rel='noopener noreferrer'>Public data</a></td><td class='upgini-text'><a href='https://docs.upgini.com/public/telecom/cell_towers_mls_radius_ads#f_telecom_country_postal_cells_LTE_10km_days_from_update_avg_80e9aadd' target='_blank' rel='noopener noreferrer'>f_telecom_country_postal_cells_LTE_10km_days_from_update_avg_80e9aadd</a></td><td class='upgini-number'>0.005302</td><td class='upgini-number'>96.982759</td><td class='upgini-text'>numerical</td><td class='upgini-text'>Free</td></tr><tr><td class='upgini-text'></td><td class='upgini-text'></td><td class='upgini-text'>combined_aa4bpw_emb101</td><td class='upgini-number'>0.005165</td><td class='upgini-number'>100.000000</td><td class='upgini-text'>numerical</td><td class='upgini-text'></td></tr><tr><td class='upgini-text'></td><td class='upgini-text'></td><td class='upgini-text'>combined_aa4bpw_emb1057</td><td class='upgini-number'>0.004871</td><td class='upgini-number'>100.000000</td><td class='upgini-text'>numerical</td><td class='upgini-text'></td></tr><tr><td class='upgini-text'></td><td class='upgini-text'></td><td class='upgini-text'>combined_aa4bpw_emb1492</td><td class='upgini-number'>0.004703</td><td class='upgini-number'>100.000000</td><td class='upgini-text'>numerical</td><td class='upgini-text'></td></tr><tr><td class='upgini-text'></td><td class='upgini-text'></td><td class='upgini-text'>combined_aa4bpw_emb1409</td><td class='upgini-number'>0.004066</td><td class='upgini-number'>100.000000</td><td class='upgini-text'>numerical</td><td class='upgini-text'></td></tr><tr><td class='upgini-text'></td><td class='upgini-text'></td><td class='upgini-text'>combined_aa4bpw_emb208</td><td class='upgini-number'>0.004018</td><td class='upgini-number'>100.000000</td><td class='upgini-text'>numerical</td><td class='upgini-text'></td></tr><tr><td class='upgini-text'></td><td class='upgini-text'></td><td class='upgini-text'>company_txt_aa4bpw_emb389</td><td class='upgini-number'>0.004018</td><td class='upgini-number'>100.000000</td><td class='upgini-text'>numerical</td><td class='upgini-text'></td></tr><tr><td class='upgini-text'></td><td class='upgini-text'></td><td class='upgini-text'>combined_aa4bpw_emb949</td><td class='upgini-number'>0.003931</td><td class='upgini-number'>100.000000</td><td class='upgini-text'>numerical</td><td class='upgini-text'></td></tr><tr><td class='upgini-text'></td><td class='upgini-text'></td><td class='upgini-text'>company_txt_aa4bpw_emb1494</td><td class='upgini-number'>0.003635</td><td class='upgini-number'>100.000000</td><td class='upgini-text'>numerical</td><td class='upgini-text'></td></tr><tr><td class='upgini-text'></td><td class='upgini-text'></td><td class='upgini-text'>combined_aa4bpw_emb271</td><td class='upgini-number'>0.003499</td><td class='upgini-number'>100.000000</td><td class='upgini-text'>numerical</td><td class='upgini-text'></td></tr><tr><td class='upgini-text'></td><td class='upgini-text'></td><td class='upgini-text'>company_txt_aa4bpw_emb191</td><td class='upgini-number'>0.003440</td><td class='upgini-number'>100.000000</td><td class='upgini-text'>numerical</td><td class='upgini-text'></td></tr><tr><td class='upgini-text'></td><td class='upgini-text'></td><td class='upgini-text'>combined_aa4bpw_emb933</td><td class='upgini-number'>0.003395</td><td class='upgini-number'>100.000000</td><td class='upgini-text'>numerical</td><td class='upgini-text'></td></tr><tr><td class='upgini-text'></td><td class='upgini-text'></td><td class='upgini-text'>combined_aa4bpw_emb1526</td><td class='upgini-number'>0.003080</td><td class='upgini-number'>100.000000</td><td class='upgini-text'>numerical</td><td class='upgini-text'></td></tr><tr><td class='upgini-text'></td><td class='upgini-text'></td><td class='upgini-text'>combined_aa4bpw_emb1374</td><td class='upgini-number'>0.003041</td><td class='upgini-number'>100.000000</td><td class='upgini-text'>numerical</td><td class='upgini-text'></td></tr><tr><td class='upgini-text'></td><td class='upgini-text'></td><td class='upgini-text'>combined_aa4bpw_emb488</td><td class='upgini-number'>0.002885</td><td class='upgini-number'>100.000000</td><td class='upgini-text'>numerical</td><td class='upgini-text'></td></tr><tr><td class='upgini-text'></td><td class='upgini-text'></td><td class='upgini-text'>combined_aa4bpw_emb426</td><td class='upgini-number'>0.002709</td><td class='upgini-number'>100.000000</td><td class='upgini-text'>numerical</td><td class='upgini-text'></td></tr><tr><td class='upgini-text'><a href='https://upgini.com' target='_blank' rel='noopener noreferrer'>Upgini</a></td><td class='upgini-text'><a href='https://upgini.com/#data_sources' target='_blank' rel='noopener noreferrer'>Public data</a></td><td class='upgini-text'><a href='https://docs.upgini.com/public/osm/postal_code_landuse_4km_area#f_location_country_postal_allotments_4km_area_to_postal_area_1f04ece0' target='_blank' rel='noopener noreferrer'>f_location_country_postal_allotments_4km_area_to_postal_area_1f04ece0</a></td><td class='upgini-number'>0.002696</td><td class='upgini-number'>65.301724</td><td class='upgini-text'>numerical</td><td class='upgini-text'>Free</td></tr><tr><td class='upgini-text'></td><td class='upgini-text'></td><td class='upgini-text'>company_txt_aa4bpw_emb179</td><td class='upgini-number'>0.002624</td><td class='upgini-number'>100.000000</td><td class='upgini-text'>numerical</td><td class='upgini-text'></td></tr><tr><td class='upgini-text'></td><td class='upgini-text'></td><td class='upgini-text'>combined_aa4bpw_emb708</td><td class='upgini-number'>0.002614</td><td class='upgini-number'>100.000000</td><td class='upgini-text'>numerical</td><td class='upgini-text'></td></tr><tr><td class='upgini-text'></td><td class='upgini-text'></td><td class='upgini-text'>company_txt_aa4bpw_emb163</td><td class='upgini-number'>0.002572</td><td class='upgini-number'>100.000000</td><td class='upgini-text'>numerical</td><td class='upgini-text'></td></tr><tr><td class='upgini-text'></td><td class='upgini-text'></td><td class='upgini-text'>combined_aa4bpw_emb38</td><td class='upgini-number'>0.002377</td><td class='upgini-number'>100.000000</td><td class='upgini-text'>numerical</td><td class='upgini-text'></td></tr><tr><td class='upgini-text'></td><td class='upgini-text'></td><td class='upgini-text'>company_txt_aa4bpw_emb462</td><td class='upgini-number'>0.002355</td><td class='upgini-number'>100.000000</td><td class='upgini-text'>numerical</td><td class='upgini-text'></td></tr><tr><td class='upgini-text'></td><td class='upgini-text'></td><td class='upgini-text'>combined_aa4bpw_emb959</td><td class='upgini-number'>0.002195</td><td class='upgini-number'>100.000000</td><td class='upgini-text'>numerical</td><td class='upgini-text'></td></tr><tr><td class='upgini-text'><a href='https://upgini.com' target='_blank' rel='noopener noreferrer'>Upgini</a></td><td class='upgini-text'><a href='https://upgini.com/#data_sources' target='_blank' rel='noopener noreferrer'>Public data</a></td><td class='upgini-text'><a href='https://docs.upgini.com/public/telecom/cell_towers_mls_radius_ads#f_telecom_country_postal_cells_GSM_20km_days_from_update_avg_2ba7eeb1' target='_blank' rel='noopener noreferrer'>f_telecom_country_postal_cells_GSM_20km_days_from_update_avg_2ba7eeb1</a></td><td class='upgini-number'>0.002166</td><td class='upgini-number'>96.767241</td><td class='upgini-text'>numerical</td><td class='upgini-text'>Free</td></tr><tr><td class='upgini-text'></td><td class='upgini-text'></td><td class='upgini-text'>combined_aa4bpw_emb1290</td><td class='upgini-number'>0.002139</td><td class='upgini-number'>100.000000</td><td class='upgini-text'>numerical</td><td class='upgini-text'></td></tr><tr><td class='upgini-text'></td><td class='upgini-text'></td><td class='upgini-text'>combined_aa4bpw_emb58</td><td class='upgini-number'>0.002131</td><td class='upgini-number'>100.000000</td><td class='upgini-text'>numerical</td><td class='upgini-text'></td></tr><tr><td class='upgini-text'></td><td class='upgini-text'></td><td class='upgini-text'>age</td><td class='upgini-number'>0.000000</td><td class='upgini-number'>100.000000</td><td class='upgini-text'>numerical</td><td class='upgini-text'></td></tr><tr><td class='upgini-text'></td><td class='upgini-text'></td><td class='upgini-text'>aws</td><td class='upgini-number'>0.000000</td><td class='upgini-number'>100.000000</td><td class='upgini-text'>numerical</td><td class='upgini-text'></td></tr><tr><td class='upgini-text'></td><td class='upgini-text'></td><td class='upgini-text'>combined_aa4bpw_n_tokens</td><td class='upgini-number'>0.000000</td><td class='upgini-number'>100.000000</td><td class='upgini-text'>numerical</td><td class='upgini-text'></td></tr><tr><td class='upgini-text'></td><td class='upgini-text'></td><td class='upgini-text'>desc_len</td><td class='upgini-number'>0.000000</td><td class='upgini-number'>100.000000</td><td class='upgini-text'>numerical</td><td class='upgini-text'></td></tr><tr><td class='upgini-text'></td><td class='upgini-text'></td><td class='upgini-text'>excel</td><td class='upgini-number'>0.000000</td><td class='upgini-number'>100.000000</td><td class='upgini-text'>numerical</td><td class='upgini-text'></td></tr><tr><td class='upgini-text'></td><td class='upgini-text'></td><td class='upgini-text'>Founded</td><td class='upgini-number'>0.000000</td><td class='upgini-number'>100.000000</td><td class='upgini-text'>numerical</td><td class='upgini-text'></td></tr><tr><td class='upgini-text'></td><td class='upgini-text'></td><td class='upgini-text'>num_comp</td><td class='upgini-number'>0.000000</td><td class='upgini-number'>100.000000</td><td class='upgini-text'>numerical</td><td class='upgini-text'></td></tr><tr><td class='upgini-text'></td><td class='upgini-text'></td><td class='upgini-text'>python_yn</td><td class='upgini-number'>0.000000</td><td class='upgini-number'>100.000000</td><td class='upgini-text'>numerical</td><td class='upgini-text'></td></tr><tr><td class='upgini-text'></td><td class='upgini-text'></td><td class='upgini-text'>same_state</td><td class='upgini-number'>0.000000</td><td class='upgini-number'>100.000000</td><td class='upgini-text'>numerical</td><td class='upgini-text'></td></tr><tr><td class='upgini-text'></td><td class='upgini-text'></td><td class='upgini-text'>spark</td><td class='upgini-number'>0.000000</td><td class='upgini-number'>100.000000</td><td class='upgini-text'>numerical</td><td class='upgini-text'></td></tr><tr><td class='upgini-text'></td><td class='upgini-text'></td><td class='upgini-text'>combined</td><td class='upgini-number'>0.000000</td><td class='upgini-number'>100.000000</td><td class='upgini-text'>categorical</td><td class='upgini-text'></td></tr><tr><td class='upgini-text'></td><td class='upgini-text'></td><td class='upgini-text'>Company Name</td><td class='upgini-number'>0.000000</td><td class='upgini-number'>100.000000</td><td class='upgini-text'>categorical</td><td class='upgini-text'></td></tr><tr><td class='upgini-text'></td><td class='upgini-text'></td><td class='upgini-text'>company_txt</td><td class='upgini-number'>0.000000</td><td class='upgini-number'>100.000000</td><td class='upgini-text'>categorical</td><td class='upgini-text'></td></tr><tr><td class='upgini-text'></td><td class='upgini-text'></td><td class='upgini-text'>Headquarters</td><td class='upgini-number'>0.000000</td><td class='upgini-number'>100.000000</td><td class='upgini-text'>categorical</td><td class='upgini-text'></td></tr><tr><td class='upgini-text'></td><td class='upgini-text'></td><td class='upgini-text'>Industry</td><td class='upgini-number'>0.000000</td><td class='upgini-number'>100.000000</td><td class='upgini-text'>categorical</td><td class='upgini-text'></td></tr><tr><td class='upgini-text'></td><td class='upgini-text'></td><td class='upgini-text'>job_state</td><td class='upgini-number'>0.000000</td><td class='upgini-number'>100.000000</td><td class='upgini-text'>categorical</td><td class='upgini-text'></td></tr><tr><td class='upgini-text'></td><td class='upgini-text'></td><td class='upgini-text'>Location</td><td class='upgini-number'>0.000000</td><td class='upgini-number'>100.000000</td><td class='upgini-text'>categorical</td><td class='upgini-text'></td></tr><tr><td class='upgini-text'></td><td class='upgini-text'></td><td class='upgini-text'>Revenue</td><td class='upgini-number'>0.000000</td><td class='upgini-number'>100.000000</td><td class='upgini-text'>categorical</td><td class='upgini-text'></td></tr><tr><td class='upgini-text'></td><td class='upgini-text'></td><td class='upgini-text'>Sector</td><td class='upgini-number'>0.000000</td><td class='upgini-number'>100.000000</td><td class='upgini-text'>categorical</td><td class='upgini-text'></td></tr><tr><td class='upgini-text'></td><td class='upgini-text'></td><td class='upgini-text'>Size</td><td class='upgini-number'>0.000000</td><td class='upgini-number'>100.000000</td><td class='upgini-text'>categorical</td><td class='upgini-text'></td></tr><tr><td class='upgini-text'></td><td class='upgini-text'></td><td class='upgini-text'>Type of ownership</td><td class='upgini-number'>0.000000</td><td class='upgini-number'>100.000000</td><td class='upgini-text'>categorical</td><td class='upgini-text'></td></tr></tbody></table>"
            ]
          },
          "metadata": {}
        },
        {
          "output_type": "stream",
          "name": "stdout",
          "text": [
            "Not sure what these features mean? Drop us a message in Slack community:\n"
          ]
        },
        {
          "output_type": "display_data",
          "data": {
            "text/plain": [
              "<IPython.core.display.HTML object>"
            ],
            "text/html": [
              "<a href='https://4mlg.short.gy/join-upgini-community' target='_blank' rel='noopener noreferrer'>\n",
              "                    <img alt='Upgini Slack community' src='https://img.shields.io/badge/slack-@upgini-orange.svg?logo=slack'></a>\n",
              "                    "
            ]
          },
          "metadata": {}
        },
        {
          "output_type": "stream",
          "name": "stdout",
          "text": [
            "Calculating accuracy uplift after enrichment...\n",
            "\u001b[92m\u001b[1m\n",
            "Quality metrics\u001b[0m\n"
          ]
        },
        {
          "output_type": "display_data",
          "data": {
            "text/plain": [
              "       Rows  Baseline mean_absolute_error  Enriched mean_absolute_error  \\\n",
              "                                                                          \n",
              "Train   464                     23.110497                     19.998437   \n",
              "\n",
              "        Uplift  \n",
              "                \n",
              "Train  3.11206  "
            ],
            "text/html": [
              "\n",
              "  <div id=\"df-fcbd4ab3-efdc-49ba-b95a-9e75951bfb91\">\n",
              "    <div class=\"colab-df-container\">\n",
              "      <div>\n",
              "<style scoped>\n",
              "    .dataframe tbody tr th:only-of-type {\n",
              "        vertical-align: middle;\n",
              "    }\n",
              "\n",
              "    .dataframe tbody tr th {\n",
              "        vertical-align: top;\n",
              "    }\n",
              "\n",
              "    .dataframe thead th {\n",
              "        text-align: right;\n",
              "    }\n",
              "</style>\n",
              "<table border=\"1\" class=\"dataframe\">\n",
              "  <thead>\n",
              "    <tr style=\"text-align: right;\">\n",
              "      <th></th>\n",
              "      <th>Rows</th>\n",
              "      <th>Baseline mean_absolute_error</th>\n",
              "      <th>Enriched mean_absolute_error</th>\n",
              "      <th>Uplift</th>\n",
              "    </tr>\n",
              "    <tr>\n",
              "      <th></th>\n",
              "      <th></th>\n",
              "      <th></th>\n",
              "      <th></th>\n",
              "      <th></th>\n",
              "    </tr>\n",
              "  </thead>\n",
              "  <tbody>\n",
              "    <tr>\n",
              "      <th>Train</th>\n",
              "      <td>464</td>\n",
              "      <td>23.110497</td>\n",
              "      <td>19.998437</td>\n",
              "      <td>3.11206</td>\n",
              "    </tr>\n",
              "  </tbody>\n",
              "</table>\n",
              "</div>\n",
              "      <button class=\"colab-df-convert\" onclick=\"convertToInteractive('df-fcbd4ab3-efdc-49ba-b95a-9e75951bfb91')\"\n",
              "              title=\"Convert this dataframe to an interactive table.\"\n",
              "              style=\"display:none;\">\n",
              "        \n",
              "  <svg xmlns=\"http://www.w3.org/2000/svg\" height=\"24px\"viewBox=\"0 0 24 24\"\n",
              "       width=\"24px\">\n",
              "    <path d=\"M0 0h24v24H0V0z\" fill=\"none\"/>\n",
              "    <path d=\"M18.56 5.44l.94 2.06.94-2.06 2.06-.94-2.06-.94-.94-2.06-.94 2.06-2.06.94zm-11 1L8.5 8.5l.94-2.06 2.06-.94-2.06-.94L8.5 2.5l-.94 2.06-2.06.94zm10 10l.94 2.06.94-2.06 2.06-.94-2.06-.94-.94-2.06-.94 2.06-2.06.94z\"/><path d=\"M17.41 7.96l-1.37-1.37c-.4-.4-.92-.59-1.43-.59-.52 0-1.04.2-1.43.59L10.3 9.45l-7.72 7.72c-.78.78-.78 2.05 0 2.83L4 21.41c.39.39.9.59 1.41.59.51 0 1.02-.2 1.41-.59l7.78-7.78 2.81-2.81c.8-.78.8-2.07 0-2.86zM5.41 20L4 18.59l7.72-7.72 1.47 1.35L5.41 20z\"/>\n",
              "  </svg>\n",
              "      </button>\n",
              "      \n",
              "  <style>\n",
              "    .colab-df-container {\n",
              "      display:flex;\n",
              "      flex-wrap:wrap;\n",
              "      gap: 12px;\n",
              "    }\n",
              "\n",
              "    .colab-df-convert {\n",
              "      background-color: #E8F0FE;\n",
              "      border: none;\n",
              "      border-radius: 50%;\n",
              "      cursor: pointer;\n",
              "      display: none;\n",
              "      fill: #1967D2;\n",
              "      height: 32px;\n",
              "      padding: 0 0 0 0;\n",
              "      width: 32px;\n",
              "    }\n",
              "\n",
              "    .colab-df-convert:hover {\n",
              "      background-color: #E2EBFA;\n",
              "      box-shadow: 0px 1px 2px rgba(60, 64, 67, 0.3), 0px 1px 3px 1px rgba(60, 64, 67, 0.15);\n",
              "      fill: #174EA6;\n",
              "    }\n",
              "\n",
              "    [theme=dark] .colab-df-convert {\n",
              "      background-color: #3B4455;\n",
              "      fill: #D2E3FC;\n",
              "    }\n",
              "\n",
              "    [theme=dark] .colab-df-convert:hover {\n",
              "      background-color: #434B5C;\n",
              "      box-shadow: 0px 1px 3px 1px rgba(0, 0, 0, 0.15);\n",
              "      filter: drop-shadow(0px 1px 2px rgba(0, 0, 0, 0.3));\n",
              "      fill: #FFFFFF;\n",
              "    }\n",
              "  </style>\n",
              "\n",
              "      <script>\n",
              "        const buttonEl =\n",
              "          document.querySelector('#df-fcbd4ab3-efdc-49ba-b95a-9e75951bfb91 button.colab-df-convert');\n",
              "        buttonEl.style.display =\n",
              "          google.colab.kernel.accessAllowed ? 'block' : 'none';\n",
              "\n",
              "        async function convertToInteractive(key) {\n",
              "          const element = document.querySelector('#df-fcbd4ab3-efdc-49ba-b95a-9e75951bfb91');\n",
              "          const dataTable =\n",
              "            await google.colab.kernel.invokeFunction('convertToInteractive',\n",
              "                                                     [key], {});\n",
              "          if (!dataTable) return;\n",
              "\n",
              "          const docLinkHtml = 'Like what you see? Visit the ' +\n",
              "            '<a target=\"_blank\" href=https://colab.research.google.com/notebooks/data_table.ipynb>data table notebook</a>'\n",
              "            + ' to learn more about interactive tables.';\n",
              "          element.innerHTML = '';\n",
              "          dataTable['output_type'] = 'display_data';\n",
              "          await google.colab.output.renderOutput(dataTable, element);\n",
              "          const docLink = document.createElement('div');\n",
              "          docLink.innerHTML = docLinkHtml;\n",
              "          element.appendChild(docLink);\n",
              "        }\n",
              "      </script>\n",
              "    </div>\n",
              "  </div>\n",
              "  "
            ]
          },
          "metadata": {}
        },
        {
          "output_type": "stream",
          "name": "stdout",
          "text": [
            "We'll send email notification once it's completed, just use your personal api_key from profile.upgini.com\n",
            "\n"
          ]
        }
      ],
      "source": [
        "train_features = df.drop(['avg_salary'], axis=1)\n",
        "train_target = df.avg_salary\n",
        "enriched_train_features = enricher.fit_transform(\n",
        "    train_features,\n",
        "    train_target,\n",
        "    scoring = \"mean_absolute_error\")"
      ]
    },
    {
      "cell_type": "markdown",
      "metadata": {
        "id": "uq1EUN32c7gt"
      },
      "source": [
        "We've got **50+ new relevant features** from:\n",
        "- Various sources  [automatically optimized by Upgini](https://upgini.com/#optimized_external_data) such as [World demographic & census data, Car ownership & Parking data, Location/Places/POI/Area/Proximity data from OpenStreetMap,  World house prices data, etc.](https://github.com/upgini/upgini#-connected-data-sources-and-coverage)\n",
        "- Automated feature generation for two selected text columns `'combined', 'company_txt'` with [Large Language Models' data augmentation](https://upgini.com/#large_language_models)\n",
        "\n",
        "All ranked by [SHAP values](https://en.wikipedia.org/wiki/Shapley_value).\n",
        "\n",
        "Initial features from the training dataset will also be checked for relevancy, so you don't need an extra feature selection step.\n",
        "\n",
        "Also, `FeaturesEnricher` automaticaly calculates model metrics and uplift from new relevant features using default `calculate_metrics=True` parameter in `fit()` or `fit_transform()` methods.  \n",
        "For this, you can use any estimator with scikit-learn compartible interface with `estimator` and define custom model metrics with `scoring`. More details [here](https://github.com/upgini/upgini#-accuracy-and-uplift-metrics-calculations)\n",
        "\n",
        "Result of search & enrichment request:\n",
        "\n",
        "⭐️ Enrcihed pandas dataframe **with 50+ new relevant features** `enriched_train_features`  \n",
        "⭐️ Calculated accuracy Uplift after enrichment: **13+% from 23.11 BEFORE  to 20 AFTER** for a basic non task-optimized ML model; MAE - mean absolute error, less is better\n",
        ">💡 You can also enrich production ML pipelines, more details [here](https://github.com/upgini/upgini#6--enrich-production-ml-pipeline-with-relevant-external-features)"
      ]
    },
    {
      "cell_type": "markdown",
      "metadata": {
        "id": "PaNjfBOKo12-"
      },
      "source": [
        "## ✅ Retrain model with enriched training dataset\n",
        "\n",
        "Now, you can use an enriched dataframe to train a more accurate, task-optimized ML model in your existing ML pipeline.   \n",
        "As example, let's take `CatBoostRegressor`."
      ]
    },
    {
      "cell_type": "code",
      "execution_count": 5,
      "metadata": {
        "colab": {
          "base_uri": "https://localhost:8080/",
          "height": 327
        },
        "id": "wtVSVBnXASc7",
        "outputId": "947ba450-2d6a-4b86-dbad-706c5248fee0"
      },
      "outputs": [
        {
          "output_type": "execute_result",
          "data": {
            "text/plain": [
              "                                 Company Name         Location   Headquarters  \\\n",
              "0                      Tecolote Research\\n3.8  Albuquerque, NM     Goleta, CA   \n",
              "1  University of Maryland Medical System\\n3.4    Linthicum, MD  Baltimore, MD   \n",
              "\n",
              "                    Size  Founded   Type of ownership  \\\n",
              "0  501 to 1000 employees     1973   Company - Private   \n",
              "1       10000+ employees     1984  Other Organization   \n",
              "\n",
              "                           Industry               Sector  \\\n",
              "0               Aerospace & Defense  Aerospace & Defense   \n",
              "1  Health Care Services & Hospitals          Health Care   \n",
              "\n",
              "                     Revenue                            company_txt  ...  \\\n",
              "0  $50 to $100 million (USD)                      Tecolote Research  ...   \n",
              "1     $2 to $5 billion (USD)  University of Maryland Medical System  ...   \n",
              "\n",
              "  f_location_country_postal_allotments_4km_area_to_postal_area_1f04ece0  \\\n",
              "0                                                NaN                      \n",
              "1                                                NaN                      \n",
              "\n",
              "   company_txt_aa4bpw_emb179  combined_aa4bpw_emb708  \\\n",
              "0                  -0.012758                0.013505   \n",
              "1                  -0.022246               -0.001097   \n",
              "\n",
              "   company_txt_aa4bpw_emb163  combined_aa4bpw_emb38  \\\n",
              "0                   0.025556               0.021121   \n",
              "1                  -0.024697               0.035207   \n",
              "\n",
              "   company_txt_aa4bpw_emb462  combined_aa4bpw_emb959  \\\n",
              "0                  -0.000060                0.012411   \n",
              "1                   0.004652                0.008387   \n",
              "\n",
              "   f_telecom_country_postal_cells_GSM_20km_days_from_update_avg_2ba7eeb1  \\\n",
              "0                                          63.137339                       \n",
              "1                                          89.308151                       \n",
              "\n",
              "  combined_aa4bpw_emb1290  combined_aa4bpw_emb58  \n",
              "0               -0.005928               0.002458  \n",
              "1                0.006695              -0.015985  \n",
              "\n",
              "[2 rows x 81 columns]"
            ],
            "text/html": [
              "\n",
              "  <div id=\"df-753631ba-f857-4ff5-acd6-da6369b55eea\">\n",
              "    <div class=\"colab-df-container\">\n",
              "      <div>\n",
              "<style scoped>\n",
              "    .dataframe tbody tr th:only-of-type {\n",
              "        vertical-align: middle;\n",
              "    }\n",
              "\n",
              "    .dataframe tbody tr th {\n",
              "        vertical-align: top;\n",
              "    }\n",
              "\n",
              "    .dataframe thead th {\n",
              "        text-align: right;\n",
              "    }\n",
              "</style>\n",
              "<table border=\"1\" class=\"dataframe\">\n",
              "  <thead>\n",
              "    <tr style=\"text-align: right;\">\n",
              "      <th></th>\n",
              "      <th>Company Name</th>\n",
              "      <th>Location</th>\n",
              "      <th>Headquarters</th>\n",
              "      <th>Size</th>\n",
              "      <th>Founded</th>\n",
              "      <th>Type of ownership</th>\n",
              "      <th>Industry</th>\n",
              "      <th>Sector</th>\n",
              "      <th>Revenue</th>\n",
              "      <th>company_txt</th>\n",
              "      <th>...</th>\n",
              "      <th>f_location_country_postal_allotments_4km_area_to_postal_area_1f04ece0</th>\n",
              "      <th>company_txt_aa4bpw_emb179</th>\n",
              "      <th>combined_aa4bpw_emb708</th>\n",
              "      <th>company_txt_aa4bpw_emb163</th>\n",
              "      <th>combined_aa4bpw_emb38</th>\n",
              "      <th>company_txt_aa4bpw_emb462</th>\n",
              "      <th>combined_aa4bpw_emb959</th>\n",
              "      <th>f_telecom_country_postal_cells_GSM_20km_days_from_update_avg_2ba7eeb1</th>\n",
              "      <th>combined_aa4bpw_emb1290</th>\n",
              "      <th>combined_aa4bpw_emb58</th>\n",
              "    </tr>\n",
              "  </thead>\n",
              "  <tbody>\n",
              "    <tr>\n",
              "      <th>0</th>\n",
              "      <td>Tecolote Research\\n3.8</td>\n",
              "      <td>Albuquerque, NM</td>\n",
              "      <td>Goleta, CA</td>\n",
              "      <td>501 to 1000 employees</td>\n",
              "      <td>1973</td>\n",
              "      <td>Company - Private</td>\n",
              "      <td>Aerospace &amp; Defense</td>\n",
              "      <td>Aerospace &amp; Defense</td>\n",
              "      <td>$50 to $100 million (USD)</td>\n",
              "      <td>Tecolote Research</td>\n",
              "      <td>...</td>\n",
              "      <td>NaN</td>\n",
              "      <td>-0.012758</td>\n",
              "      <td>0.013505</td>\n",
              "      <td>0.025556</td>\n",
              "      <td>0.021121</td>\n",
              "      <td>-0.000060</td>\n",
              "      <td>0.012411</td>\n",
              "      <td>63.137339</td>\n",
              "      <td>-0.005928</td>\n",
              "      <td>0.002458</td>\n",
              "    </tr>\n",
              "    <tr>\n",
              "      <th>1</th>\n",
              "      <td>University of Maryland Medical System\\n3.4</td>\n",
              "      <td>Linthicum, MD</td>\n",
              "      <td>Baltimore, MD</td>\n",
              "      <td>10000+ employees</td>\n",
              "      <td>1984</td>\n",
              "      <td>Other Organization</td>\n",
              "      <td>Health Care Services &amp; Hospitals</td>\n",
              "      <td>Health Care</td>\n",
              "      <td>$2 to $5 billion (USD)</td>\n",
              "      <td>University of Maryland Medical System</td>\n",
              "      <td>...</td>\n",
              "      <td>NaN</td>\n",
              "      <td>-0.022246</td>\n",
              "      <td>-0.001097</td>\n",
              "      <td>-0.024697</td>\n",
              "      <td>0.035207</td>\n",
              "      <td>0.004652</td>\n",
              "      <td>0.008387</td>\n",
              "      <td>89.308151</td>\n",
              "      <td>0.006695</td>\n",
              "      <td>-0.015985</td>\n",
              "    </tr>\n",
              "  </tbody>\n",
              "</table>\n",
              "<p>2 rows × 81 columns</p>\n",
              "</div>\n",
              "      <button class=\"colab-df-convert\" onclick=\"convertToInteractive('df-753631ba-f857-4ff5-acd6-da6369b55eea')\"\n",
              "              title=\"Convert this dataframe to an interactive table.\"\n",
              "              style=\"display:none;\">\n",
              "        \n",
              "  <svg xmlns=\"http://www.w3.org/2000/svg\" height=\"24px\"viewBox=\"0 0 24 24\"\n",
              "       width=\"24px\">\n",
              "    <path d=\"M0 0h24v24H0V0z\" fill=\"none\"/>\n",
              "    <path d=\"M18.56 5.44l.94 2.06.94-2.06 2.06-.94-2.06-.94-.94-2.06-.94 2.06-2.06.94zm-11 1L8.5 8.5l.94-2.06 2.06-.94-2.06-.94L8.5 2.5l-.94 2.06-2.06.94zm10 10l.94 2.06.94-2.06 2.06-.94-2.06-.94-.94-2.06-.94 2.06-2.06.94z\"/><path d=\"M17.41 7.96l-1.37-1.37c-.4-.4-.92-.59-1.43-.59-.52 0-1.04.2-1.43.59L10.3 9.45l-7.72 7.72c-.78.78-.78 2.05 0 2.83L4 21.41c.39.39.9.59 1.41.59.51 0 1.02-.2 1.41-.59l7.78-7.78 2.81-2.81c.8-.78.8-2.07 0-2.86zM5.41 20L4 18.59l7.72-7.72 1.47 1.35L5.41 20z\"/>\n",
              "  </svg>\n",
              "      </button>\n",
              "      \n",
              "  <style>\n",
              "    .colab-df-container {\n",
              "      display:flex;\n",
              "      flex-wrap:wrap;\n",
              "      gap: 12px;\n",
              "    }\n",
              "\n",
              "    .colab-df-convert {\n",
              "      background-color: #E8F0FE;\n",
              "      border: none;\n",
              "      border-radius: 50%;\n",
              "      cursor: pointer;\n",
              "      display: none;\n",
              "      fill: #1967D2;\n",
              "      height: 32px;\n",
              "      padding: 0 0 0 0;\n",
              "      width: 32px;\n",
              "    }\n",
              "\n",
              "    .colab-df-convert:hover {\n",
              "      background-color: #E2EBFA;\n",
              "      box-shadow: 0px 1px 2px rgba(60, 64, 67, 0.3), 0px 1px 3px 1px rgba(60, 64, 67, 0.15);\n",
              "      fill: #174EA6;\n",
              "    }\n",
              "\n",
              "    [theme=dark] .colab-df-convert {\n",
              "      background-color: #3B4455;\n",
              "      fill: #D2E3FC;\n",
              "    }\n",
              "\n",
              "    [theme=dark] .colab-df-convert:hover {\n",
              "      background-color: #434B5C;\n",
              "      box-shadow: 0px 1px 3px 1px rgba(0, 0, 0, 0.15);\n",
              "      filter: drop-shadow(0px 1px 2px rgba(0, 0, 0, 0.3));\n",
              "      fill: #FFFFFF;\n",
              "    }\n",
              "  </style>\n",
              "\n",
              "      <script>\n",
              "        const buttonEl =\n",
              "          document.querySelector('#df-753631ba-f857-4ff5-acd6-da6369b55eea button.colab-df-convert');\n",
              "        buttonEl.style.display =\n",
              "          google.colab.kernel.accessAllowed ? 'block' : 'none';\n",
              "\n",
              "        async function convertToInteractive(key) {\n",
              "          const element = document.querySelector('#df-753631ba-f857-4ff5-acd6-da6369b55eea');\n",
              "          const dataTable =\n",
              "            await google.colab.kernel.invokeFunction('convertToInteractive',\n",
              "                                                     [key], {});\n",
              "          if (!dataTable) return;\n",
              "\n",
              "          const docLinkHtml = 'Like what you see? Visit the ' +\n",
              "            '<a target=\"_blank\" href=https://colab.research.google.com/notebooks/data_table.ipynb>data table notebook</a>'\n",
              "            + ' to learn more about interactive tables.';\n",
              "          element.innerHTML = '';\n",
              "          dataTable['output_type'] = 'display_data';\n",
              "          await google.colab.output.renderOutput(dataTable, element);\n",
              "          const docLink = document.createElement('div');\n",
              "          docLink.innerHTML = docLinkHtml;\n",
              "          element.appendChild(docLink);\n",
              "        }\n",
              "      </script>\n",
              "    </div>\n",
              "  </div>\n",
              "  "
            ]
          },
          "metadata": {},
          "execution_count": 5
        }
      ],
      "source": [
        "enriched_train_features.head(2)"
      ]
    },
    {
      "cell_type": "code",
      "execution_count": 7,
      "metadata": {
        "id": "Xg-ZSnoDdIIG"
      },
      "outputs": [],
      "source": [
        "from catboost import CatBoostRegressor\n",
        "from catboost.utils import eval_metric\n",
        "from sklearn.model_selection import train_test_split\n",
        "\n",
        "# Find all categorical features and replace NaNs with 'NA'\n",
        "cat_col_enriched = [col for col in enriched_train_features.columns if enriched_train_features[col].dtype == \"O\"]\n",
        "enriched_train_features.loc[:, cat_col_enriched] = enriched_train_features.loc[:, cat_col_enriched].fillna(\"NA\")\n",
        "\n",
        "cat_col_baseline = [col for col in train_features.columns if train_features[col].dtype == \"O\"]\n",
        "train_features.loc[:, cat_col_baseline] = train_features.loc[:, cat_col_baseline].fillna(\"NA\")\n",
        "\n",
        "# Train and test split for correct model evaluation\n",
        "X_train, X_test, y_train, y_test, X_train_baseline, X_test_baseline = train_test_split(\n",
        "    enriched_train_features,\n",
        "    train_target,\n",
        "    train_features,\n",
        "    test_size=0.2,\n",
        "    shuffle=True,\n",
        "    random_state=0)\n",
        "\n",
        "# Task-optimized Catboost estimator\n",
        "model = CatBoostRegressor(\n",
        "    learning_rate=0.03,\n",
        "    iterations=330,\n",
        "    random_state=0,\n",
        "    eval_metric=\"MAE\",\n",
        "    verbose=False,)"
      ]
    },
    {
      "cell_type": "markdown",
      "metadata": {
        "id": "Q60M1Vn3FNkE"
      },
      "source": [
        "Baseline **BEFORE** enrichment with the new features, *Mean Absolute Error*:"
      ]
    },
    {
      "cell_type": "code",
      "execution_count": 8,
      "metadata": {
        "colab": {
          "base_uri": "https://localhost:8080/"
        },
        "id": "2fxmxA-RrgGF",
        "outputId": "ae919df6-d0ef-4803-e58d-5a923b66928a"
      },
      "outputs": [
        {
          "output_type": "execute_result",
          "data": {
            "text/plain": [
              "[22.415689095313247]"
            ]
          },
          "metadata": {},
          "execution_count": 8
        }
      ],
      "source": [
        "model.fit(X_train_baseline, y_train, cat_features=cat_col_baseline)\n",
        "preds = model.predict(X_test_baseline)\n",
        "eval_metric(y_test.values, preds, \"MAE\")"
      ]
    },
    {
      "cell_type": "markdown",
      "metadata": {
        "id": "PB6SRgONFXuv"
      },
      "source": [
        "**AFTER** enrichment, *Mean Absolute Error*:"
      ]
    },
    {
      "cell_type": "code",
      "execution_count": 9,
      "metadata": {
        "colab": {
          "base_uri": "https://localhost:8080/"
        },
        "id": "576rPcPoFPMu",
        "outputId": "6b073cff-cc9f-43b6-df31-92279b61d734"
      },
      "outputs": [
        {
          "output_type": "execute_result",
          "data": {
            "text/plain": [
              "[19.401491311630597]"
            ]
          },
          "metadata": {},
          "execution_count": 9
        }
      ],
      "source": [
        "model.fit(X_train, y_train, cat_features=cat_col_enriched)\n",
        "preds = model.predict(X_test)\n",
        "eval_metric(y_test.values, preds, \"MAE\")"
      ]
    },
    {
      "cell_type": "markdown",
      "metadata": {
        "id": "KImqK8qbs4Dd"
      },
      "source": [
        "______________________________\n",
        "**That's all for a quick start in 15 minutes!**  \n",
        "If you found this useful or interesting, please share with a friend.\n",
        "______________________________\n",
        "## 🔗 Useful links\n",
        "* Upgini Library [Documentation](https://github.com/upgini/upgini#readme)\n",
        "* More [Notebooks and Guides](https://github.com/upgini/upgini#briefcase-use-cases)\n",
        "* Kaggle public [Notebooks](https://www.kaggle.com/romaupgini/code)\n",
        "\n",
        "\n",
        "<sup>😔 Found mistype or a bug in code snippet? Our bad! <a href=\"https://github.com/upgini/upgini/issues/new?assignees=&title=readme%2Fbug\">\n",
        "Please report it here.</a></sup>"
      ]
    },
    {
      "cell_type": "markdown",
      "metadata": {
        "id": "16-1EcXEwUZ8"
      },
      "source": [
        "## Optional: Enrichment with **external data & features only**, whithout LLM based feature generation\n",
        "\n",
        "To enrich training dataset ONLY with features from external data sources, without automated feature generation on the text columns, you can simply remove parameter  `generate_features=['combined', 'company_txt']` from  `FeaturesEnricher`.  \n",
        "Thus, you'll be able to compare Uplift from *LLM based feature generation + External Data* VS. *Uplift from External data and features only*:  "
      ]
    },
    {
      "cell_type": "code",
      "execution_count": 23,
      "metadata": {
        "id": "hR_ZeGg_77QK",
        "colab": {
          "base_uri": "https://localhost:8080/",
          "height": 1000
        },
        "outputId": "bfb9bd81-1621-470b-b9dd-1042df053100"
      },
      "outputs": [
        {
          "output_type": "stream",
          "name": "stdout",
          "text": [
            "Demo training dataset detected. Registration for an API key is not required.\n",
            "Detected task type: ModelTaskType.REGRESSION\n",
            "\n",
            "Columns ['R_yn'] has value with frequency more than 99%, removed from X\n"
          ]
        },
        {
          "output_type": "display_data",
          "data": {
            "text/plain": [
              "<IPython.core.display.HTML object>"
            ],
            "text/html": [
              "<table><tr><th style='font-weight:bold'>Column name</th><th style='font-weight:bold'>Status</th><th style='font-weight:bold'>Errors</th></tr><tr><td>target</td><td style='background-color:#DAF7A6;color:black'>All valid</td><td>-</td></tr><tr><td>country</td><td style='background-color:#DAF7A6;color:black'>All valid</td><td>-</td></tr><tr><td>Postal_code</td><td style='background-color:#FFC300;color:black'>Some invalid</td><td>2.2% values failed validation and removed from dataframe, invalid values: [&lt;NA&gt;, &lt;NA&gt;, &lt;NA&gt;, &lt;NA&gt;, &lt;NA&gt;]</td></tr></table>"
            ]
          },
          "metadata": {}
        },
        {
          "output_type": "stream",
          "name": "stdout",
          "text": [
            "\n",
            "Running search request, search_id=26cb5380-556c-4ad0-bb58-a93a4d6a9a72\n",
            "We'll send email notification once it's completed, just use your personal api_key from profile.upgini.com\n",
            "\n",
            "\u001b[92m\u001b[1m\n",
            "14 relevant feature(s) found with the search keys: ['country', 'Postal_code']\u001b[0m\n"
          ]
        },
        {
          "output_type": "display_data",
          "data": {
            "text/plain": [
              "<IPython.core.display.HTML object>"
            ],
            "text/html": [
              "<style>\n",
              "            .upgini-df thead th {\n",
              "                font-weight:bold;\n",
              "                text-align: right;\n",
              "                padding: 0.5em;\n",
              "            }\n",
              "\n",
              "            .upgini-df td {\n",
              "                padding: 0.5em;\n",
              "            }\n",
              "\n",
              "            .upgini-text {\n",
              "                text-align: right;\n",
              "            }\n",
              "\n",
              "            .upgini-number {\n",
              "                text-align: center;\n",
              "            }\n",
              "        </style><table class='upgini-df'><thead><th>Provider</th><th>Source</th><th>Feature name</th><th>SHAP value</th><th>Coverage %</th><th>Type</th><th>Feature type</th></thead><tbody><tr><td class='upgini-text'></td><td class='upgini-text'></td><td class='upgini-text'>job_simp</td><td class='upgini-number'>0.276091</td><td class='upgini-number'>100.000000</td><td class='upgini-text'>categorical</td><td class='upgini-text'></td></tr><tr><td class='upgini-text'><a href='https://upgini.com' target='_blank' rel='noopener noreferrer'>Upgini</a></td><td class='upgini-text'><a href='https://upgini.com/#data_sources' target='_blank' rel='noopener noreferrer'>Public data</a></td><td class='upgini-text'><a href='https://docs.upgini.com/public/telecom/cell_towers_radius_ads#f_telecom_country_postal_cells_CDMA_5km_samples_max_ca41aa64' target='_blank' rel='noopener noreferrer'>f_telecom_country_postal_cells_CDMA_5km_samples_max_ca41aa64</a></td><td class='upgini-number'>0.039363</td><td class='upgini-number'>96.982759</td><td class='upgini-text'>numerical</td><td class='upgini-text'>Free</td></tr><tr><td class='upgini-text'><a href='https://upgini.com' target='_blank' rel='noopener noreferrer'>Upgini</a></td><td class='upgini-text'><a href='https://upgini.com/#data_sources' target='_blank' rel='noopener noreferrer'>Community data</a></td><td class='upgini-text'>f_marketing_country_postal_person_ethnic_code_non_europe_prc_4b43eb96</td><td class='upgini-number'>0.031216</td><td class='upgini-number'>83.189655</td><td class='upgini-text'>numerical</td><td class='upgini-text'>Trial</td></tr><tr><td class='upgini-text'></td><td class='upgini-text'></td><td class='upgini-text'><a href='https://docs.upgini.com/public/osm/population_ads#f_location_country_postal_population_1km_67cde37f' target='_blank' rel='noopener noreferrer'>f_location_country_postal_population_1km_67cde37f</a></td><td class='upgini-number'>0.029431</td><td class='upgini-number'>96.982759</td><td class='upgini-text'>numerical</td><td class='upgini-text'>Free</td></tr><tr><td class='upgini-text'><a href='https://upgini.com' target='_blank' rel='noopener noreferrer'>Upgini</a></td><td class='upgini-text'><a href='https://upgini.com/#data_sources' target='_blank' rel='noopener noreferrer'>Public data</a></td><td class='upgini-text'><a href='https://docs.upgini.com/public/telecom/cell_towers_radius_ads#f_telecom_country_postal_cells_10km_days_from_update_max_e92568d8' target='_blank' rel='noopener noreferrer'>f_telecom_country_postal_cells_10km_days_from_update_max_e92568d8</a></td><td class='upgini-number'>0.022845</td><td class='upgini-number'>96.982759</td><td class='upgini-text'>numerical</td><td class='upgini-text'>Free</td></tr><tr><td class='upgini-text'><a href='https://upgini.com' target='_blank' rel='noopener noreferrer'>Upgini</a></td><td class='upgini-text'><a href='https://upgini.com/#data_sources' target='_blank' rel='noopener noreferrer'>Public data</a></td><td class='upgini-text'><a href='https://docs.upgini.com/public/osm/census_data_zip_ads#f_location_country_postal_asian_population_prcnt_a93958d5' target='_blank' rel='noopener noreferrer'>f_location_country_postal_asian_population_prcnt_a93958d5</a></td><td class='upgini-number'>0.022562</td><td class='upgini-number'>65.732759</td><td class='upgini-text'>numerical</td><td class='upgini-text'>Free</td></tr><tr><td class='upgini-text'><a href='https://upgini.com' target='_blank' rel='noopener noreferrer'>Upgini</a></td><td class='upgini-text'><a href='https://upgini.com/#data_sources' target='_blank' rel='noopener noreferrer'>Community data</a></td><td class='upgini-text'>f_marketing_country_postal_home_value_code_d_prc_b545b4dc</td><td class='upgini-number'>0.020861</td><td class='upgini-number'>83.189655</td><td class='upgini-text'>numerical</td><td class='upgini-text'>Trial</td></tr><tr><td class='upgini-text'><a href='https://upgini.com' target='_blank' rel='noopener noreferrer'>Upgini</a></td><td class='upgini-text'><a href='https://upgini.com/#data_sources' target='_blank' rel='noopener noreferrer'>Community data</a></td><td class='upgini-text'><a href='https://docs.upgini.com/public/realty/realty_source_2#f_location_country_postal_realty_price_1bedroom_d35b6a53' target='_blank' rel='noopener noreferrer'>f_location_country_postal_realty_price_1bedroom_d35b6a53</a></td><td class='upgini-number'>0.020308</td><td class='upgini-number'>59.267241</td><td class='upgini-text'>numerical</td><td class='upgini-text'>Trial</td></tr><tr><td class='upgini-text'><a href='https://upgini.com' target='_blank' rel='noopener noreferrer'>Upgini</a></td><td class='upgini-text'><a href='https://upgini.com/#data_sources' target='_blank' rel='noopener noreferrer'>Community data</a></td><td class='upgini-text'>f_marketing_country_postal_income_75000_99999_prc_badd07a0</td><td class='upgini-number'>0.020096</td><td class='upgini-number'>83.189655</td><td class='upgini-text'>numerical</td><td class='upgini-text'>Trial</td></tr><tr><td class='upgini-text'><a href='https://upgini.com' target='_blank' rel='noopener noreferrer'>Upgini</a></td><td class='upgini-text'><a href='https://upgini.com/#data_sources' target='_blank' rel='noopener noreferrer'>Public data</a></td><td class='upgini-text'><a href='https://docs.upgini.com/public/telecom/cell_towers_mls_radius_ads#f_telecom_country_postal_cells_UMTS_20km_days_from_update_avg_035d9ad6' target='_blank' rel='noopener noreferrer'>f_telecom_country_postal_cells_UMTS_20km_days_from_update_avg_035d9ad6</a></td><td class='upgini-number'>0.014613</td><td class='upgini-number'>96.982759</td><td class='upgini-text'>numerical</td><td class='upgini-text'>Free</td></tr><tr><td class='upgini-text'><a href='https://upgini.com' target='_blank' rel='noopener noreferrer'>Upgini</a></td><td class='upgini-text'><a href='https://upgini.com/#data_sources' target='_blank' rel='noopener noreferrer'>Public data</a></td><td class='upgini-text'><a href='https://docs.upgini.com/public/telecom/cell_towers_radius_ads#f_telecom_country_postal_cells_1km_days_from_update_max_2d067097' target='_blank' rel='noopener noreferrer'>f_telecom_country_postal_cells_1km_days_from_update_max_2d067097</a></td><td class='upgini-number'>0.014038</td><td class='upgini-number'>96.982759</td><td class='upgini-text'>numerical</td><td class='upgini-text'>Free</td></tr><tr><td class='upgini-text'><a href='https://upgini.com/' target='_blank' rel='noopener noreferrer'>Upgini</a></td><td class='upgini-text'><a href='https://upgini.com/#data_sources' target='_blank' rel='noopener noreferrer'>Community data</a></td><td class='upgini-text'>f_car_ownership_country_postal_cluster_6_cnt_to_all_cnt_2ec97fa7</td><td class='upgini-number'>0.014010</td><td class='upgini-number'>95.474138</td><td class='upgini-text'>numerical</td><td class='upgini-text'>Trial</td></tr><tr><td class='upgini-text'><a href='https://upgini.com' target='_blank' rel='noopener noreferrer'>Upgini</a></td><td class='upgini-text'><a href='https://upgini.com/#data_sources' target='_blank' rel='noopener noreferrer'>Public data</a></td><td class='upgini-text'><a href='https://docs.upgini.com/public/telecom/cell_towers_mls_radius_ads#f_telecom_country_postal_cells_LTE_10km_days_from_update_avg_80e9aadd' target='_blank' rel='noopener noreferrer'>f_telecom_country_postal_cells_LTE_10km_days_from_update_avg_80e9aadd</a></td><td class='upgini-number'>0.009568</td><td class='upgini-number'>96.982759</td><td class='upgini-text'>numerical</td><td class='upgini-text'>Free</td></tr><tr><td class='upgini-text'><a href='https://upgini.com' target='_blank' rel='noopener noreferrer'>Upgini</a></td><td class='upgini-text'><a href='https://upgini.com/#data_sources' target='_blank' rel='noopener noreferrer'>Public data</a></td><td class='upgini-text'><a href='https://docs.upgini.com/public/telecom/cell_towers_mls_radius_ads#f_telecom_country_postal_cells_UMTS_10km_days_from_update_avg_7a29f5fa' target='_blank' rel='noopener noreferrer'>f_telecom_country_postal_cells_UMTS_10km_days_from_update_avg_7a29f5fa</a></td><td class='upgini-number'>0.007697</td><td class='upgini-number'>96.982759</td><td class='upgini-text'>numerical</td><td class='upgini-text'>Free</td></tr><tr><td class='upgini-text'><a href='https://upgini.com' target='_blank' rel='noopener noreferrer'>Upgini</a></td><td class='upgini-text'><a href='https://upgini.com/#data_sources' target='_blank' rel='noopener noreferrer'>Community data</a></td><td class='upgini-text'>f_marketing_country_postal_donor_capacity_code_a_prc_1c088f8a</td><td class='upgini-number'>0.007441</td><td class='upgini-number'>83.189655</td><td class='upgini-text'>numerical</td><td class='upgini-text'>Trial</td></tr><tr><td class='upgini-text'></td><td class='upgini-text'></td><td class='upgini-text'>age</td><td class='upgini-number'>0.000000</td><td class='upgini-number'>100.000000</td><td class='upgini-text'>numerical</td><td class='upgini-text'></td></tr><tr><td class='upgini-text'></td><td class='upgini-text'></td><td class='upgini-text'>aws</td><td class='upgini-number'>0.000000</td><td class='upgini-number'>100.000000</td><td class='upgini-text'>numerical</td><td class='upgini-text'></td></tr><tr><td class='upgini-text'></td><td class='upgini-text'></td><td class='upgini-text'>desc_len</td><td class='upgini-number'>0.000000</td><td class='upgini-number'>100.000000</td><td class='upgini-text'>numerical</td><td class='upgini-text'></td></tr><tr><td class='upgini-text'></td><td class='upgini-text'></td><td class='upgini-text'>excel</td><td class='upgini-number'>0.000000</td><td class='upgini-number'>100.000000</td><td class='upgini-text'>numerical</td><td class='upgini-text'></td></tr><tr><td class='upgini-text'></td><td class='upgini-text'></td><td class='upgini-text'>Founded</td><td class='upgini-number'>0.000000</td><td class='upgini-number'>100.000000</td><td class='upgini-text'>numerical</td><td class='upgini-text'></td></tr><tr><td class='upgini-text'></td><td class='upgini-text'></td><td class='upgini-text'>num_comp</td><td class='upgini-number'>0.000000</td><td class='upgini-number'>100.000000</td><td class='upgini-text'>numerical</td><td class='upgini-text'></td></tr><tr><td class='upgini-text'></td><td class='upgini-text'></td><td class='upgini-text'>python_yn</td><td class='upgini-number'>0.000000</td><td class='upgini-number'>100.000000</td><td class='upgini-text'>numerical</td><td class='upgini-text'></td></tr><tr><td class='upgini-text'></td><td class='upgini-text'></td><td class='upgini-text'>same_state</td><td class='upgini-number'>0.000000</td><td class='upgini-number'>100.000000</td><td class='upgini-text'>numerical</td><td class='upgini-text'></td></tr><tr><td class='upgini-text'></td><td class='upgini-text'></td><td class='upgini-text'>spark</td><td class='upgini-number'>0.000000</td><td class='upgini-number'>100.000000</td><td class='upgini-text'>numerical</td><td class='upgini-text'></td></tr><tr><td class='upgini-text'></td><td class='upgini-text'></td><td class='upgini-text'>combined</td><td class='upgini-number'>0.000000</td><td class='upgini-number'>100.000000</td><td class='upgini-text'>categorical</td><td class='upgini-text'></td></tr><tr><td class='upgini-text'></td><td class='upgini-text'></td><td class='upgini-text'>Company Name</td><td class='upgini-number'>0.000000</td><td class='upgini-number'>100.000000</td><td class='upgini-text'>categorical</td><td class='upgini-text'></td></tr><tr><td class='upgini-text'></td><td class='upgini-text'></td><td class='upgini-text'>company_txt</td><td class='upgini-number'>0.000000</td><td class='upgini-number'>100.000000</td><td class='upgini-text'>categorical</td><td class='upgini-text'></td></tr><tr><td class='upgini-text'></td><td class='upgini-text'></td><td class='upgini-text'>Headquarters</td><td class='upgini-number'>0.000000</td><td class='upgini-number'>100.000000</td><td class='upgini-text'>categorical</td><td class='upgini-text'></td></tr><tr><td class='upgini-text'></td><td class='upgini-text'></td><td class='upgini-text'>Industry</td><td class='upgini-number'>0.000000</td><td class='upgini-number'>100.000000</td><td class='upgini-text'>categorical</td><td class='upgini-text'></td></tr><tr><td class='upgini-text'></td><td class='upgini-text'></td><td class='upgini-text'>job_state</td><td class='upgini-number'>0.000000</td><td class='upgini-number'>100.000000</td><td class='upgini-text'>categorical</td><td class='upgini-text'></td></tr><tr><td class='upgini-text'></td><td class='upgini-text'></td><td class='upgini-text'>Location</td><td class='upgini-number'>0.000000</td><td class='upgini-number'>100.000000</td><td class='upgini-text'>categorical</td><td class='upgini-text'></td></tr><tr><td class='upgini-text'></td><td class='upgini-text'></td><td class='upgini-text'>Revenue</td><td class='upgini-number'>0.000000</td><td class='upgini-number'>100.000000</td><td class='upgini-text'>categorical</td><td class='upgini-text'></td></tr><tr><td class='upgini-text'></td><td class='upgini-text'></td><td class='upgini-text'>Sector</td><td class='upgini-number'>0.000000</td><td class='upgini-number'>100.000000</td><td class='upgini-text'>categorical</td><td class='upgini-text'></td></tr><tr><td class='upgini-text'></td><td class='upgini-text'></td><td class='upgini-text'>Size</td><td class='upgini-number'>0.000000</td><td class='upgini-number'>100.000000</td><td class='upgini-text'>categorical</td><td class='upgini-text'></td></tr><tr><td class='upgini-text'></td><td class='upgini-text'></td><td class='upgini-text'>Type of ownership</td><td class='upgini-number'>0.000000</td><td class='upgini-number'>100.000000</td><td class='upgini-text'>categorical</td><td class='upgini-text'></td></tr></tbody></table>"
            ]
          },
          "metadata": {}
        },
        {
          "output_type": "stream",
          "name": "stdout",
          "text": [
            "Not sure what these features mean? Drop us a message in Slack community:\n"
          ]
        },
        {
          "output_type": "display_data",
          "data": {
            "text/plain": [
              "<IPython.core.display.HTML object>"
            ],
            "text/html": [
              "<a href='https://4mlg.short.gy/join-upgini-community' target='_blank' rel='noopener noreferrer'>\n",
              "                    <img alt='Upgini Slack community' src='https://img.shields.io/badge/slack-@upgini-orange.svg?logo=slack'></a>\n",
              "                    "
            ]
          },
          "metadata": {}
        },
        {
          "output_type": "stream",
          "name": "stdout",
          "text": [
            "Calculating accuracy uplift after enrichment...\n",
            "\u001b[92m\u001b[1m\n",
            "Quality metrics\u001b[0m\n"
          ]
        },
        {
          "output_type": "display_data",
          "data": {
            "text/plain": [
              "       Rows  Baseline mean_absolute_error  Enriched mean_absolute_error  \\\n",
              "                                                                          \n",
              "Train   464                     23.110497                     22.231589   \n",
              "\n",
              "         Uplift  \n",
              "                 \n",
              "Train  0.878908  "
            ],
            "text/html": [
              "\n",
              "  <div id=\"df-6e562e96-4745-4698-ae88-69134d20f16d\">\n",
              "    <div class=\"colab-df-container\">\n",
              "      <div>\n",
              "<style scoped>\n",
              "    .dataframe tbody tr th:only-of-type {\n",
              "        vertical-align: middle;\n",
              "    }\n",
              "\n",
              "    .dataframe tbody tr th {\n",
              "        vertical-align: top;\n",
              "    }\n",
              "\n",
              "    .dataframe thead th {\n",
              "        text-align: right;\n",
              "    }\n",
              "</style>\n",
              "<table border=\"1\" class=\"dataframe\">\n",
              "  <thead>\n",
              "    <tr style=\"text-align: right;\">\n",
              "      <th></th>\n",
              "      <th>Rows</th>\n",
              "      <th>Baseline mean_absolute_error</th>\n",
              "      <th>Enriched mean_absolute_error</th>\n",
              "      <th>Uplift</th>\n",
              "    </tr>\n",
              "    <tr>\n",
              "      <th></th>\n",
              "      <th></th>\n",
              "      <th></th>\n",
              "      <th></th>\n",
              "      <th></th>\n",
              "    </tr>\n",
              "  </thead>\n",
              "  <tbody>\n",
              "    <tr>\n",
              "      <th>Train</th>\n",
              "      <td>464</td>\n",
              "      <td>23.110497</td>\n",
              "      <td>22.231589</td>\n",
              "      <td>0.878908</td>\n",
              "    </tr>\n",
              "  </tbody>\n",
              "</table>\n",
              "</div>\n",
              "      <button class=\"colab-df-convert\" onclick=\"convertToInteractive('df-6e562e96-4745-4698-ae88-69134d20f16d')\"\n",
              "              title=\"Convert this dataframe to an interactive table.\"\n",
              "              style=\"display:none;\">\n",
              "        \n",
              "  <svg xmlns=\"http://www.w3.org/2000/svg\" height=\"24px\"viewBox=\"0 0 24 24\"\n",
              "       width=\"24px\">\n",
              "    <path d=\"M0 0h24v24H0V0z\" fill=\"none\"/>\n",
              "    <path d=\"M18.56 5.44l.94 2.06.94-2.06 2.06-.94-2.06-.94-.94-2.06-.94 2.06-2.06.94zm-11 1L8.5 8.5l.94-2.06 2.06-.94-2.06-.94L8.5 2.5l-.94 2.06-2.06.94zm10 10l.94 2.06.94-2.06 2.06-.94-2.06-.94-.94-2.06-.94 2.06-2.06.94z\"/><path d=\"M17.41 7.96l-1.37-1.37c-.4-.4-.92-.59-1.43-.59-.52 0-1.04.2-1.43.59L10.3 9.45l-7.72 7.72c-.78.78-.78 2.05 0 2.83L4 21.41c.39.39.9.59 1.41.59.51 0 1.02-.2 1.41-.59l7.78-7.78 2.81-2.81c.8-.78.8-2.07 0-2.86zM5.41 20L4 18.59l7.72-7.72 1.47 1.35L5.41 20z\"/>\n",
              "  </svg>\n",
              "      </button>\n",
              "      \n",
              "  <style>\n",
              "    .colab-df-container {\n",
              "      display:flex;\n",
              "      flex-wrap:wrap;\n",
              "      gap: 12px;\n",
              "    }\n",
              "\n",
              "    .colab-df-convert {\n",
              "      background-color: #E8F0FE;\n",
              "      border: none;\n",
              "      border-radius: 50%;\n",
              "      cursor: pointer;\n",
              "      display: none;\n",
              "      fill: #1967D2;\n",
              "      height: 32px;\n",
              "      padding: 0 0 0 0;\n",
              "      width: 32px;\n",
              "    }\n",
              "\n",
              "    .colab-df-convert:hover {\n",
              "      background-color: #E2EBFA;\n",
              "      box-shadow: 0px 1px 2px rgba(60, 64, 67, 0.3), 0px 1px 3px 1px rgba(60, 64, 67, 0.15);\n",
              "      fill: #174EA6;\n",
              "    }\n",
              "\n",
              "    [theme=dark] .colab-df-convert {\n",
              "      background-color: #3B4455;\n",
              "      fill: #D2E3FC;\n",
              "    }\n",
              "\n",
              "    [theme=dark] .colab-df-convert:hover {\n",
              "      background-color: #434B5C;\n",
              "      box-shadow: 0px 1px 3px 1px rgba(0, 0, 0, 0.15);\n",
              "      filter: drop-shadow(0px 1px 2px rgba(0, 0, 0, 0.3));\n",
              "      fill: #FFFFFF;\n",
              "    }\n",
              "  </style>\n",
              "\n",
              "      <script>\n",
              "        const buttonEl =\n",
              "          document.querySelector('#df-6e562e96-4745-4698-ae88-69134d20f16d button.colab-df-convert');\n",
              "        buttonEl.style.display =\n",
              "          google.colab.kernel.accessAllowed ? 'block' : 'none';\n",
              "\n",
              "        async function convertToInteractive(key) {\n",
              "          const element = document.querySelector('#df-6e562e96-4745-4698-ae88-69134d20f16d');\n",
              "          const dataTable =\n",
              "            await google.colab.kernel.invokeFunction('convertToInteractive',\n",
              "                                                     [key], {});\n",
              "          if (!dataTable) return;\n",
              "\n",
              "          const docLinkHtml = 'Like what you see? Visit the ' +\n",
              "            '<a target=\"_blank\" href=https://colab.research.google.com/notebooks/data_table.ipynb>data table notebook</a>'\n",
              "            + ' to learn more about interactive tables.';\n",
              "          element.innerHTML = '';\n",
              "          dataTable['output_type'] = 'display_data';\n",
              "          await google.colab.output.renderOutput(dataTable, element);\n",
              "          const docLink = document.createElement('div');\n",
              "          docLink.innerHTML = docLinkHtml;\n",
              "          element.appendChild(docLink);\n",
              "        }\n",
              "      </script>\n",
              "    </div>\n",
              "  </div>\n",
              "  "
            ]
          },
          "metadata": {}
        }
      ],
      "source": [
        "df = pd.read_csv(df_path)\n",
        "train_features = df.drop(['avg_salary'], axis=1)\n",
        "train_target = df.avg_salary\n",
        "\n",
        "enricher = FeaturesEnricher(\n",
        "    search_keys={\n",
        "    'country': SearchKey.COUNTRY,\n",
        "    'Postal_code': SearchKey.POSTAL_CODE})\n",
        "enricher.fit(train_features, train_target, scoring = \"mean_absolute_error\")"
      ]
    }
  ],
  "metadata": {
    "colab": {
      "provenance": []
    },
    "kernelspec": {
      "display_name": "Python 3",
      "name": "python3"
    },
    "language_info": {
      "name": "python"
    }
  },
  "nbformat": 4,
  "nbformat_minor": 0
}
